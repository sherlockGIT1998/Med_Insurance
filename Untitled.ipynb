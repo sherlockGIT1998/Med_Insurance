{
 "cells": [
  {
   "cell_type": "code",
   "execution_count": 1,
   "metadata": {},
   "outputs": [],
   "source": [
    "# Importing all important Libraries \n",
    "\n",
    "import pandas as pd\n",
    "\n",
    "import numpy as np\n",
    "\n",
    "import seaborn as sns\n",
    "\n",
    "import matplotlib.pyplot as plt\n",
    "\n",
    "import warnings\n",
    "warnings.filterwarnings('ignore')\n",
    "\n",
    "from scipy.stats import shapiro,kstest,normaltest\n",
    "\n",
    "from IPython import display\n",
    "pd.set_option('display.max_columns',None)\n",
    "pd.set_option('display.max_rows',None)\n",
    "\n",
    "import statsmodels.api as sm\n",
    "\n",
    "from statsmodels.stats.outliers_influence import variance_inflation_factor\n",
    "\n",
    "from sklearn.linear_model import LinearRegression\n",
    "\n",
    "from sklearn.model_selection import train_test_split\n",
    "\n",
    "from sklearn.metrics import mean_absolute_error,mean_squared_error,r2_score\n",
    "\n",
    "from sklearn.preprocessing import LabelEncoder\n",
    "\n",
    "import json\n",
    "\n",
    "import pickle"
   ]
  },
  {
   "cell_type": "markdown",
   "metadata": {},
   "source": [
    "## Problem Statement :"
   ]
  },
  {
   "cell_type": "raw",
   "metadata": {},
   "source": [
    "Our aim is to predict  Charges of Medical Insurance by Using Linear Regression of Superwised MAchine Learning Algorithm."
   ]
  },
  {
   "cell_type": "markdown",
   "metadata": {},
   "source": [
    "## Data Gathering :"
   ]
  },
  {
   "cell_type": "code",
   "execution_count": 2,
   "metadata": {},
   "outputs": [
    {
     "data": {
      "text/html": [
       "<div>\n",
       "<style scoped>\n",
       "    .dataframe tbody tr th:only-of-type {\n",
       "        vertical-align: middle;\n",
       "    }\n",
       "\n",
       "    .dataframe tbody tr th {\n",
       "        vertical-align: top;\n",
       "    }\n",
       "\n",
       "    .dataframe thead th {\n",
       "        text-align: right;\n",
       "    }\n",
       "</style>\n",
       "<table border=\"1\" class=\"dataframe\">\n",
       "  <thead>\n",
       "    <tr style=\"text-align: right;\">\n",
       "      <th></th>\n",
       "      <th>age</th>\n",
       "      <th>sex</th>\n",
       "      <th>bmi</th>\n",
       "      <th>children</th>\n",
       "      <th>smoker</th>\n",
       "      <th>region</th>\n",
       "      <th>charges</th>\n",
       "    </tr>\n",
       "  </thead>\n",
       "  <tbody>\n",
       "    <tr>\n",
       "      <th>0</th>\n",
       "      <td>19</td>\n",
       "      <td>female</td>\n",
       "      <td>27.900</td>\n",
       "      <td>0</td>\n",
       "      <td>yes</td>\n",
       "      <td>southwest</td>\n",
       "      <td>16884.92400</td>\n",
       "    </tr>\n",
       "    <tr>\n",
       "      <th>1</th>\n",
       "      <td>18</td>\n",
       "      <td>male</td>\n",
       "      <td>33.770</td>\n",
       "      <td>1</td>\n",
       "      <td>no</td>\n",
       "      <td>southeast</td>\n",
       "      <td>1725.55230</td>\n",
       "    </tr>\n",
       "    <tr>\n",
       "      <th>2</th>\n",
       "      <td>28</td>\n",
       "      <td>male</td>\n",
       "      <td>33.000</td>\n",
       "      <td>3</td>\n",
       "      <td>no</td>\n",
       "      <td>southeast</td>\n",
       "      <td>4449.46200</td>\n",
       "    </tr>\n",
       "    <tr>\n",
       "      <th>3</th>\n",
       "      <td>33</td>\n",
       "      <td>male</td>\n",
       "      <td>22.705</td>\n",
       "      <td>0</td>\n",
       "      <td>no</td>\n",
       "      <td>northwest</td>\n",
       "      <td>21984.47061</td>\n",
       "    </tr>\n",
       "    <tr>\n",
       "      <th>4</th>\n",
       "      <td>32</td>\n",
       "      <td>male</td>\n",
       "      <td>28.880</td>\n",
       "      <td>0</td>\n",
       "      <td>no</td>\n",
       "      <td>northwest</td>\n",
       "      <td>3866.85520</td>\n",
       "    </tr>\n",
       "  </tbody>\n",
       "</table>\n",
       "</div>"
      ],
      "text/plain": [
       "   age     sex     bmi  children smoker     region      charges\n",
       "0   19  female  27.900         0    yes  southwest  16884.92400\n",
       "1   18    male  33.770         1     no  southeast   1725.55230\n",
       "2   28    male  33.000         3     no  southeast   4449.46200\n",
       "3   33    male  22.705         0     no  northwest  21984.47061\n",
       "4   32    male  28.880         0     no  northwest   3866.85520"
      ]
     },
     "execution_count": 2,
     "metadata": {},
     "output_type": "execute_result"
    }
   ],
   "source": [
    "df = pd.read_csv('medical_insurance.csv')\n",
    "df.head()"
   ]
  },
  {
   "cell_type": "markdown",
   "metadata": {},
   "source": [
    "## Exploratory Data Analysis :"
   ]
  },
  {
   "cell_type": "code",
   "execution_count": 3,
   "metadata": {},
   "outputs": [
    {
     "name": "stdout",
     "output_type": "stream",
     "text": [
      "<class 'pandas.core.frame.DataFrame'>\n",
      "RangeIndex: 1338 entries, 0 to 1337\n",
      "Data columns (total 7 columns):\n",
      " #   Column    Non-Null Count  Dtype  \n",
      "---  ------    --------------  -----  \n",
      " 0   age       1338 non-null   int64  \n",
      " 1   sex       1338 non-null   object \n",
      " 2   bmi       1338 non-null   float64\n",
      " 3   children  1338 non-null   int64  \n",
      " 4   smoker    1338 non-null   object \n",
      " 5   region    1338 non-null   object \n",
      " 6   charges   1338 non-null   float64\n",
      "dtypes: float64(2), int64(2), object(3)\n",
      "memory usage: 73.3+ KB\n"
     ]
    }
   ],
   "source": [
    "df.info()"
   ]
  },
  {
   "cell_type": "code",
   "execution_count": 4,
   "metadata": {},
   "outputs": [
    {
     "data": {
      "text/html": [
       "<div>\n",
       "<style scoped>\n",
       "    .dataframe tbody tr th:only-of-type {\n",
       "        vertical-align: middle;\n",
       "    }\n",
       "\n",
       "    .dataframe tbody tr th {\n",
       "        vertical-align: top;\n",
       "    }\n",
       "\n",
       "    .dataframe thead th {\n",
       "        text-align: right;\n",
       "    }\n",
       "</style>\n",
       "<table border=\"1\" class=\"dataframe\">\n",
       "  <thead>\n",
       "    <tr style=\"text-align: right;\">\n",
       "      <th></th>\n",
       "      <th>age</th>\n",
       "      <th>bmi</th>\n",
       "      <th>children</th>\n",
       "      <th>charges</th>\n",
       "    </tr>\n",
       "  </thead>\n",
       "  <tbody>\n",
       "    <tr>\n",
       "      <th>count</th>\n",
       "      <td>1338.000000</td>\n",
       "      <td>1338.000000</td>\n",
       "      <td>1338.000000</td>\n",
       "      <td>1338.000000</td>\n",
       "    </tr>\n",
       "    <tr>\n",
       "      <th>mean</th>\n",
       "      <td>39.207025</td>\n",
       "      <td>30.663397</td>\n",
       "      <td>1.094918</td>\n",
       "      <td>13270.422265</td>\n",
       "    </tr>\n",
       "    <tr>\n",
       "      <th>std</th>\n",
       "      <td>14.049960</td>\n",
       "      <td>6.098187</td>\n",
       "      <td>1.205493</td>\n",
       "      <td>12110.011237</td>\n",
       "    </tr>\n",
       "    <tr>\n",
       "      <th>min</th>\n",
       "      <td>18.000000</td>\n",
       "      <td>15.960000</td>\n",
       "      <td>0.000000</td>\n",
       "      <td>1121.873900</td>\n",
       "    </tr>\n",
       "    <tr>\n",
       "      <th>25%</th>\n",
       "      <td>27.000000</td>\n",
       "      <td>26.296250</td>\n",
       "      <td>0.000000</td>\n",
       "      <td>4740.287150</td>\n",
       "    </tr>\n",
       "    <tr>\n",
       "      <th>50%</th>\n",
       "      <td>39.000000</td>\n",
       "      <td>30.400000</td>\n",
       "      <td>1.000000</td>\n",
       "      <td>9382.033000</td>\n",
       "    </tr>\n",
       "    <tr>\n",
       "      <th>75%</th>\n",
       "      <td>51.000000</td>\n",
       "      <td>34.693750</td>\n",
       "      <td>2.000000</td>\n",
       "      <td>16639.912515</td>\n",
       "    </tr>\n",
       "    <tr>\n",
       "      <th>max</th>\n",
       "      <td>64.000000</td>\n",
       "      <td>53.130000</td>\n",
       "      <td>5.000000</td>\n",
       "      <td>63770.428010</td>\n",
       "    </tr>\n",
       "  </tbody>\n",
       "</table>\n",
       "</div>"
      ],
      "text/plain": [
       "               age          bmi     children       charges\n",
       "count  1338.000000  1338.000000  1338.000000   1338.000000\n",
       "mean     39.207025    30.663397     1.094918  13270.422265\n",
       "std      14.049960     6.098187     1.205493  12110.011237\n",
       "min      18.000000    15.960000     0.000000   1121.873900\n",
       "25%      27.000000    26.296250     0.000000   4740.287150\n",
       "50%      39.000000    30.400000     1.000000   9382.033000\n",
       "75%      51.000000    34.693750     2.000000  16639.912515\n",
       "max      64.000000    53.130000     5.000000  63770.428010"
      ]
     },
     "execution_count": 4,
     "metadata": {},
     "output_type": "execute_result"
    }
   ],
   "source": [
    "df.describe()"
   ]
  },
  {
   "cell_type": "code",
   "execution_count": 5,
   "metadata": {},
   "outputs": [
    {
     "data": {
      "text/plain": [
       "(1338, 7)"
      ]
     },
     "execution_count": 5,
     "metadata": {},
     "output_type": "execute_result"
    }
   ],
   "source": [
    "df.shape"
   ]
  },
  {
   "cell_type": "code",
   "execution_count": 6,
   "metadata": {},
   "outputs": [
    {
     "data": {
      "text/plain": [
       "age           47\n",
       "sex            2\n",
       "bmi          548\n",
       "children       6\n",
       "smoker         2\n",
       "region         4\n",
       "charges     1337\n",
       "dtype: int64"
      ]
     },
     "execution_count": 6,
     "metadata": {},
     "output_type": "execute_result"
    }
   ],
   "source": [
    "df.nunique()"
   ]
  },
  {
   "cell_type": "code",
   "execution_count": 7,
   "metadata": {},
   "outputs": [
    {
     "data": {
      "text/plain": [
       "age         0\n",
       "sex         0\n",
       "bmi         0\n",
       "children    0\n",
       "smoker      0\n",
       "region      0\n",
       "charges     0\n",
       "dtype: int64"
      ]
     },
     "execution_count": 7,
     "metadata": {},
     "output_type": "execute_result"
    }
   ],
   "source": [
    "df.isna().sum()"
   ]
  },
  {
   "cell_type": "code",
   "execution_count": 8,
   "metadata": {},
   "outputs": [
    {
     "data": {
      "text/plain": [
       "age           int64\n",
       "sex          object\n",
       "bmi         float64\n",
       "children      int64\n",
       "smoker       object\n",
       "region       object\n",
       "charges     float64\n",
       "dtype: object"
      ]
     },
     "execution_count": 8,
     "metadata": {},
     "output_type": "execute_result"
    }
   ],
   "source": [
    "df.dtypes"
   ]
  },
  {
   "cell_type": "code",
   "execution_count": 9,
   "metadata": {},
   "outputs": [
    {
     "data": {
      "image/png": "[encoded data removed]",
      "text/plain": [
       "<Figure size 1440x1440 with 4 Axes>"
      ]
     },
     "metadata": {
      "needs_background": "light"
     },
     "output_type": "display_data"
    }
   ],
   "source": [
    "df.plot(kind='box',subplots=True,figsize=(20,20))\n",
    "plt.show()"
   ]
  },
  {
   "cell_type": "code",
   "execution_count": 10,
   "metadata": {},
   "outputs": [
    {
     "data": {
      "text/plain": [
       "<matplotlib.axes._subplots.AxesSubplot at 0x1e854fbce20>"
      ]
     },
     "execution_count": 10,
     "metadata": {},
     "output_type": "execute_result"
    },
    {
     "data": {
      "image/png": "[encoded data removed]",
      "text/plain": [
       "<Figure size 1080x360 with 1 Axes>"
      ]
     },
     "metadata": {
      "needs_background": "light"
     },
     "output_type": "display_data"
    }
   ],
   "source": [
    "plt.figure(figsize=(15,5))\n",
    "df.boxplot()"
   ]
  },
  {
   "cell_type": "code",
   "execution_count": 11,
   "metadata": {},
   "outputs": [
    {
     "data": {
      "text/plain": [
       "<seaborn.axisgrid.PairGrid at 0x1e85506aa60>"
      ]
     },
     "execution_count": 11,
     "metadata": {},
     "output_type": "execute_result"
    },
    {
     "data": {
      "image/png": "[encoded data removed]",
      "text/plain": [
       "<Figure size 720x720 with 20 Axes>"
      ]
     },
     "metadata": {
      "needs_background": "light"
     },
     "output_type": "display_data"
    }
   ],
   "source": [
    "sns.pairplot(df)"
   ]
  },
  {
   "cell_type": "markdown",
   "metadata": {},
   "source": [
    "## Feature Engineering :"
   ]
  },
  {
   "cell_type": "markdown",
   "metadata": {},
   "source": [
    "## 1. age :"
   ]
  },
  {
   "cell_type": "code",
   "execution_count": 12,
   "metadata": {},
   "outputs": [
    {
     "data": {
      "text/plain": [
       "array([19, 18, 28, 33, 32, 31, 46, 37, 60, 25, 62, 23, 56, 27, 52, 30, 34,\n",
       "       59, 63, 55, 22, 26, 35, 24, 41, 38, 36, 21, 48, 40, 58, 53, 43, 64,\n",
       "       20, 61, 44, 57, 29, 45, 54, 49, 47, 51, 42, 50, 39], dtype=int64)"
      ]
     },
     "execution_count": 12,
     "metadata": {},
     "output_type": "execute_result"
    }
   ],
   "source": [
    "df['age'].unique()"
   ]
  },
  {
   "cell_type": "code",
   "execution_count": 13,
   "metadata": {},
   "outputs": [
    {
     "data": {
      "text/plain": [
       "<matplotlib.axes._subplots.AxesSubplot at 0x1e855070dc0>"
      ]
     },
     "execution_count": 13,
     "metadata": {},
     "output_type": "execute_result"
    },
    {
     "data": {
      "image/png": "[encoded data removed]",
      "text/plain": [
       "<Figure size 432x288 with 1 Axes>"
      ]
     },
     "metadata": {
      "needs_background": "light"
     },
     "output_type": "display_data"
    }
   ],
   "source": [
    "df[['age']].boxplot()"
   ]
  },
  {
   "cell_type": "markdown",
   "metadata": {},
   "source": [
    "## 2. sex"
   ]
  },
  {
   "cell_type": "code",
   "execution_count": 14,
   "metadata": {},
   "outputs": [
    {
     "data": {
      "text/plain": [
       "array(['female', 'male'], dtype=object)"
      ]
     },
     "execution_count": 14,
     "metadata": {},
     "output_type": "execute_result"
    }
   ],
   "source": [
    "df['sex'].unique()"
   ]
  },
  {
   "cell_type": "code",
   "execution_count": 15,
   "metadata": {},
   "outputs": [],
   "source": [
    "df['sex'].replace({'female':0, 'male':1},inplace=True)"
   ]
  },
  {
   "cell_type": "code",
   "execution_count": 16,
   "metadata": {},
   "outputs": [
    {
     "data": {
      "text/plain": [
       "array([0, 1], dtype=int64)"
      ]
     },
     "execution_count": 16,
     "metadata": {},
     "output_type": "execute_result"
    }
   ],
   "source": [
    "df['sex'].unique()"
   ]
  },
  {
   "cell_type": "code",
   "execution_count": 17,
   "metadata": {},
   "outputs": [
    {
     "data": {
      "text/plain": [
       "{'female': 0, 'male': 1}"
      ]
     },
     "execution_count": 17,
     "metadata": {},
     "output_type": "execute_result"
    }
   ],
   "source": [
    "sex_col = {'female':0, 'male':1}\n",
    "sex_col"
   ]
  },
  {
   "cell_type": "markdown",
   "metadata": {},
   "source": [
    "## 3. bmi"
   ]
  },
  {
   "cell_type": "code",
   "execution_count": 18,
   "metadata": {
    "scrolled": true
   },
   "outputs": [
    {
     "data": {
      "text/plain": [
       "array([27.9  , 33.77 , 33.   , 22.705, 28.88 , 25.74 , 33.44 , 27.74 ,\n",
       "       29.83 , 25.84 , 26.22 , 26.29 , 34.4  , 39.82 , 42.13 , 24.6  ,\n",
       "       30.78 , 23.845, 40.3  , 35.3  , 36.005, 32.4  , 34.1  , 31.92 ,\n",
       "       28.025, 27.72 , 23.085, 32.775, 17.385, 36.3  , 35.6  , 26.315,\n",
       "       28.6  , 28.31 , 36.4  , 20.425, 32.965, 20.8  , 36.67 , 39.9  ,\n",
       "       26.6  , 36.63 , 21.78 , 30.8  , 37.05 , 37.3  , 38.665, 34.77 ,\n",
       "       24.53 , 35.2  , 35.625, 33.63 , 28.   , 34.43 , 28.69 , 36.955,\n",
       "       31.825, 31.68 , 22.88 , 37.335, 27.36 , 33.66 , 24.7  , 25.935,\n",
       "       22.42 , 28.9  , 39.1  , 36.19 , 23.98 , 24.75 , 28.5  , 28.1  ,\n",
       "       32.01 , 27.4  , 34.01 , 29.59 , 35.53 , 39.805, 26.885, 38.285,\n",
       "       37.62 , 41.23 , 34.8  , 22.895, 31.16 , 27.2  , 26.98 , 39.49 ,\n",
       "       24.795, 31.3  , 38.28 , 19.95 , 19.3  , 31.6  , 25.46 , 30.115,\n",
       "       29.92 , 27.5  , 28.4  , 30.875, 27.94 , 35.09 , 29.7  , 35.72 ,\n",
       "       32.205, 28.595, 49.06 , 27.17 , 23.37 , 37.1  , 23.75 , 28.975,\n",
       "       31.35 , 33.915, 28.785, 28.3  , 37.4  , 17.765, 34.7  , 26.505,\n",
       "       22.04 , 35.9  , 25.555, 28.05 , 25.175, 31.9  , 36.   , 32.49 ,\n",
       "       25.3  , 29.735, 38.83 , 30.495, 37.73 , 37.43 , 24.13 , 37.145,\n",
       "       39.52 , 24.42 , 27.83 , 36.85 , 39.6  , 29.8  , 29.64 , 28.215,\n",
       "       37.   , 33.155, 18.905, 41.47 , 30.3  , 15.96 , 33.345, 37.7  ,\n",
       "       27.835, 29.2  , 26.41 , 30.69 , 41.895, 30.9  , 32.2  , 32.11 ,\n",
       "       31.57 , 26.2  , 30.59 , 32.8  , 18.05 , 39.33 , 32.23 , 24.035,\n",
       "       36.08 , 22.3  , 26.4  , 31.8  , 26.73 , 23.1  , 23.21 , 33.7  ,\n",
       "       33.25 , 24.64 , 33.88 , 38.06 , 41.91 , 31.635, 36.195, 17.8  ,\n",
       "       24.51 , 22.22 , 38.39 , 29.07 , 22.135, 26.8  , 30.02 , 35.86 ,\n",
       "       20.9  , 17.29 , 34.21 , 25.365, 40.15 , 24.415, 25.2  , 26.84 ,\n",
       "       24.32 , 42.35 , 19.8  , 32.395, 30.2  , 29.37 , 34.2  , 27.455,\n",
       "       27.55 , 20.615, 24.3  , 31.79 , 21.56 , 28.12 , 40.565, 27.645,\n",
       "       31.2  , 26.62 , 48.07 , 36.765, 33.4  , 45.54 , 28.82 , 22.99 ,\n",
       "       27.7  , 25.41 , 34.39 , 22.61 , 37.51 , 38.   , 33.33 , 34.865,\n",
       "       33.06 , 35.97 , 31.4  , 25.27 , 40.945, 34.105, 36.48 , 33.8  ,\n",
       "       36.7  , 36.385, 34.5  , 32.3  , 27.6  , 29.26 , 35.75 , 23.18 ,\n",
       "       25.6  , 35.245, 43.89 , 20.79 , 30.5  , 21.7  , 21.89 , 24.985,\n",
       "       32.015, 30.4  , 21.09 , 22.23 , 32.9  , 24.89 , 31.46 , 17.955,\n",
       "       30.685, 43.34 , 39.05 , 30.21 , 31.445, 19.855, 31.02 , 38.17 ,\n",
       "       20.6  , 47.52 , 20.4  , 38.38 , 24.31 , 23.6  , 21.12 , 30.03 ,\n",
       "       17.48 , 20.235, 17.195, 23.9  , 35.15 , 35.64 , 22.6  , 39.16 ,\n",
       "       27.265, 29.165, 16.815, 33.1  , 26.9  , 33.11 , 31.73 , 46.75 ,\n",
       "       29.45 , 32.68 , 33.5  , 43.01 , 36.52 , 26.695, 25.65 , 29.6  ,\n",
       "       38.6  , 23.4  , 46.53 , 30.14 , 30.   , 38.095, 28.38 , 28.7  ,\n",
       "       33.82 , 24.09 , 32.67 , 25.1  , 32.56 , 41.325, 39.5  , 34.3  ,\n",
       "       31.065, 21.47 , 25.08 , 43.4  , 25.7  , 27.93 , 39.2  , 26.03 ,\n",
       "       30.25 , 28.93 , 35.7  , 35.31 , 31.   , 44.22 , 26.07 , 25.8  ,\n",
       "       39.425, 40.48 , 38.9  , 47.41 , 35.435, 46.7  , 46.2  , 21.4  ,\n",
       "       23.8  , 44.77 , 32.12 , 29.1  , 37.29 , 43.12 , 36.86 , 34.295,\n",
       "       23.465, 45.43 , 23.65 , 20.7  , 28.27 , 35.91 , 29.   , 19.57 ,\n",
       "       31.13 , 21.85 , 40.26 , 33.725, 29.48 , 32.6  , 37.525, 23.655,\n",
       "       37.8  , 19.   , 21.3  , 33.535, 42.46 , 38.95 , 36.1  , 29.3  ,\n",
       "       39.7  , 38.19 , 42.4  , 34.96 , 42.68 , 31.54 , 29.81 , 21.375,\n",
       "       40.81 , 17.4  , 20.3  , 18.5  , 26.125, 41.69 , 24.1  , 36.2  ,\n",
       "       40.185, 39.27 , 34.87 , 44.745, 29.545, 23.54 , 40.47 , 40.66 ,\n",
       "       36.6  , 35.4  , 27.075, 28.405, 21.755, 40.28 , 30.1  , 32.1  ,\n",
       "       23.7  , 35.5  , 29.15 , 27.   , 37.905, 22.77 , 22.8  , 34.58 ,\n",
       "       27.1  , 19.475, 26.7  , 34.32 , 24.4  , 41.14 , 22.515, 41.8  ,\n",
       "       26.18 , 42.24 , 26.51 , 35.815, 41.42 , 36.575, 42.94 , 21.01 ,\n",
       "       24.225, 17.67 , 31.5  , 31.1  , 32.78 , 32.45 , 50.38 , 47.6  ,\n",
       "       25.4  , 29.9  , 43.7  , 24.86 , 28.8  , 29.5  , 29.04 , 38.94 ,\n",
       "       44.   , 20.045, 40.92 , 35.1  , 29.355, 32.585, 32.34 , 39.8  ,\n",
       "       24.605, 33.99 , 28.2  , 25.   , 33.2  , 23.2  , 20.1  , 32.5  ,\n",
       "       37.18 , 46.09 , 39.93 , 35.8  , 31.255, 18.335, 42.9  , 26.79 ,\n",
       "       39.615, 25.9  , 25.745, 28.16 , 23.56 , 40.5  , 35.42 , 39.995,\n",
       "       34.675, 20.52 , 23.275, 36.29 , 32.7  , 19.19 , 20.13 , 23.32 ,\n",
       "       45.32 , 34.6  , 18.715, 21.565, 23.   , 37.07 , 52.58 , 42.655,\n",
       "       21.66 , 32.   , 18.3  , 47.74 , 22.1  , 19.095, 31.24 , 29.925,\n",
       "       20.35 , 25.85 , 42.75 , 18.6  , 23.87 , 45.9  , 21.5  , 30.305,\n",
       "       44.88 , 41.1  , 40.37 , 28.49 , 33.55 , 40.375, 27.28 , 17.86 ,\n",
       "       33.3  , 39.14 , 21.945, 24.97 , 23.94 , 34.485, 21.8  , 23.3  ,\n",
       "       36.96 , 21.28 , 29.4  , 27.3  , 37.9  , 37.715, 23.76 , 25.52 ,\n",
       "       27.61 , 27.06 , 39.4  , 34.9  , 22.   , 30.36 , 27.8  , 53.13 ,\n",
       "       39.71 , 32.87 , 44.7  , 30.97 ])"
      ]
     },
     "execution_count": 18,
     "metadata": {},
     "output_type": "execute_result"
    }
   ],
   "source": [
    "df['bmi'].unique()"
   ]
  },
  {
   "cell_type": "code",
   "execution_count": 19,
   "metadata": {},
   "outputs": [
    {
     "data": {
      "text/plain": [
       "<matplotlib.axes._subplots.AxesSubplot at 0x1e8557ee0d0>"
      ]
     },
     "execution_count": 19,
     "metadata": {},
     "output_type": "execute_result"
    },
    {
     "data": {
      "image/png": "[encoded data removed]",
      "text/plain": [
       "<Figure size 432x288 with 1 Axes>"
      ]
     },
     "metadata": {
      "needs_background": "light"
     },
     "output_type": "display_data"
    }
   ],
   "source": [
    "df[['bmi']].boxplot()"
   ]
  },
  {
   "cell_type": "code",
   "execution_count": 20,
   "metadata": {},
   "outputs": [
    {
     "name": "stdout",
     "output_type": "stream",
     "text": [
      "47.290000000000006\n",
      "13.7\n"
     ]
    }
   ],
   "source": [
    "q1 = df['bmi'].quantile(0.25)\n",
    "q2 = df['bmi'].quantile(0.50)\n",
    "q3 = df['bmi'].quantile(0.75)\n",
    "\n",
    "IQR = q3 - q1\n",
    "m = df['bmi'].median()\n",
    "\n",
    "upper_tail = q3 + 1.5 * IQR\n",
    "lower_tail = q1 - 1.5 * IQR\n",
    "\n",
    "print(upper_tail)\n",
    "print(lower_tail)"
   ]
  },
  {
   "cell_type": "code",
   "execution_count": 21,
   "metadata": {},
   "outputs": [
    {
     "data": {
      "text/plain": [
       "count    1338.000000\n",
       "mean       30.663397\n",
       "std         6.098187\n",
       "min        15.960000\n",
       "25%        26.296250\n",
       "50%        30.400000\n",
       "75%        34.693750\n",
       "max        53.130000\n",
       "Name: bmi, dtype: float64"
      ]
     },
     "execution_count": 21,
     "metadata": {},
     "output_type": "execute_result"
    }
   ],
   "source": [
    "df['bmi'].describe()"
   ]
  },
  {
   "cell_type": "code",
   "execution_count": 22,
   "metadata": {},
   "outputs": [
    {
     "data": {
      "text/plain": [
       "116     49.06\n",
       "286     48.07\n",
       "401     47.52\n",
       "543     47.41\n",
       "847     50.38\n",
       "860     47.60\n",
       "1047    52.58\n",
       "1088    47.74\n",
       "1317    53.13\n",
       "Name: bmi, dtype: float64"
      ]
     },
     "execution_count": 22,
     "metadata": {},
     "output_type": "execute_result"
    }
   ],
   "source": [
    "df['bmi'].loc[df['bmi']>upper_tail]"
   ]
  },
  {
   "cell_type": "code",
   "execution_count": 23,
   "metadata": {},
   "outputs": [],
   "source": [
    "df['bmi'].loc[df['bmi']>upper_tail]=upper_tail"
   ]
  },
  {
   "cell_type": "code",
   "execution_count": 24,
   "metadata": {},
   "outputs": [
    {
     "data": {
      "text/plain": [
       "Series([], Name: bmi, dtype: float64)"
      ]
     },
     "execution_count": 24,
     "metadata": {},
     "output_type": "execute_result"
    }
   ],
   "source": [
    "df['bmi'].loc[df['bmi']>upper_tail]"
   ]
  },
  {
   "cell_type": "code",
   "execution_count": 25,
   "metadata": {},
   "outputs": [
    {
     "data": {
      "text/plain": [
       "<matplotlib.axes._subplots.AxesSubplot at 0x1e8550ea280>"
      ]
     },
     "execution_count": 25,
     "metadata": {},
     "output_type": "execute_result"
    },
    {
     "data": {
      "image/png": "[encoded data removed]",
      "text/plain": [
       "<Figure size 432x288 with 1 Axes>"
      ]
     },
     "metadata": {
      "needs_background": "light"
     },
     "output_type": "display_data"
    }
   ],
   "source": [
    "df[['bmi']].boxplot()"
   ]
  },
  {
   "cell_type": "markdown",
   "metadata": {},
   "source": [
    "## 4. children"
   ]
  },
  {
   "cell_type": "code",
   "execution_count": 26,
   "metadata": {},
   "outputs": [
    {
     "data": {
      "text/plain": [
       "array([0, 1, 3, 2, 5, 4], dtype=int64)"
      ]
     },
     "execution_count": 26,
     "metadata": {},
     "output_type": "execute_result"
    }
   ],
   "source": [
    "df['children'].unique()"
   ]
  },
  {
   "cell_type": "code",
   "execution_count": 27,
   "metadata": {},
   "outputs": [
    {
     "data": {
      "text/plain": [
       "<matplotlib.axes._subplots.AxesSubplot at 0x1e856ba38e0>"
      ]
     },
     "execution_count": 27,
     "metadata": {},
     "output_type": "execute_result"
    },
    {
     "data": {
      "image/png": "[encoded data removed]",
      "text/plain": [
       "<Figure size 432x288 with 1 Axes>"
      ]
     },
     "metadata": {
      "needs_background": "light"
     },
     "output_type": "display_data"
    }
   ],
   "source": [
    "df[['children']].boxplot()"
   ]
  },
  {
   "cell_type": "markdown",
   "metadata": {},
   "source": [
    "## 5. smoker"
   ]
  },
  {
   "cell_type": "code",
   "execution_count": 28,
   "metadata": {},
   "outputs": [
    {
     "data": {
      "text/plain": [
       "array(['yes', 'no'], dtype=object)"
      ]
     },
     "execution_count": 28,
     "metadata": {},
     "output_type": "execute_result"
    }
   ],
   "source": [
    "df['smoker'].unique()"
   ]
  },
  {
   "cell_type": "code",
   "execution_count": 29,
   "metadata": {},
   "outputs": [],
   "source": [
    "df['smoker'].replace({'yes':0, 'no':1},inplace=True)"
   ]
  },
  {
   "cell_type": "code",
   "execution_count": 30,
   "metadata": {},
   "outputs": [
    {
     "data": {
      "text/plain": [
       "array([0, 1], dtype=int64)"
      ]
     },
     "execution_count": 30,
     "metadata": {},
     "output_type": "execute_result"
    }
   ],
   "source": [
    "df['smoker'].unique()"
   ]
  },
  {
   "cell_type": "code",
   "execution_count": 31,
   "metadata": {},
   "outputs": [
    {
     "data": {
      "text/plain": [
       "{'yes': 0, 'no': 1}"
      ]
     },
     "execution_count": 31,
     "metadata": {},
     "output_type": "execute_result"
    }
   ],
   "source": [
    "smoker_col = {'yes':0, 'no':1}\n",
    "smoker_col"
   ]
  },
  {
   "cell_type": "markdown",
   "metadata": {},
   "source": [
    "## 6. region"
   ]
  },
  {
   "cell_type": "code",
   "execution_count": 32,
   "metadata": {},
   "outputs": [
    {
     "data": {
      "text/plain": [
       "array(['southwest', 'southeast', 'northwest', 'northeast'], dtype=object)"
      ]
     },
     "execution_count": 32,
     "metadata": {},
     "output_type": "execute_result"
    }
   ],
   "source": [
    "df['region'].unique()"
   ]
  },
  {
   "cell_type": "code",
   "execution_count": 33,
   "metadata": {},
   "outputs": [
    {
     "data": {
      "text/html": [
       "<div>\n",
       "<style scoped>\n",
       "    .dataframe tbody tr th:only-of-type {\n",
       "        vertical-align: middle;\n",
       "    }\n",
       "\n",
       "    .dataframe tbody tr th {\n",
       "        vertical-align: top;\n",
       "    }\n",
       "\n",
       "    .dataframe thead th {\n",
       "        text-align: right;\n",
       "    }\n",
       "</style>\n",
       "<table border=\"1\" class=\"dataframe\">\n",
       "  <thead>\n",
       "    <tr style=\"text-align: right;\">\n",
       "      <th></th>\n",
       "      <th>age</th>\n",
       "      <th>sex</th>\n",
       "      <th>bmi</th>\n",
       "      <th>children</th>\n",
       "      <th>smoker</th>\n",
       "      <th>charges</th>\n",
       "      <th>region_northeast</th>\n",
       "      <th>region_northwest</th>\n",
       "      <th>region_southeast</th>\n",
       "      <th>region_southwest</th>\n",
       "    </tr>\n",
       "  </thead>\n",
       "  <tbody>\n",
       "    <tr>\n",
       "      <th>0</th>\n",
       "      <td>19</td>\n",
       "      <td>0</td>\n",
       "      <td>27.900</td>\n",
       "      <td>0</td>\n",
       "      <td>0</td>\n",
       "      <td>16884.92400</td>\n",
       "      <td>0</td>\n",
       "      <td>0</td>\n",
       "      <td>0</td>\n",
       "      <td>1</td>\n",
       "    </tr>\n",
       "    <tr>\n",
       "      <th>1</th>\n",
       "      <td>18</td>\n",
       "      <td>1</td>\n",
       "      <td>33.770</td>\n",
       "      <td>1</td>\n",
       "      <td>1</td>\n",
       "      <td>1725.55230</td>\n",
       "      <td>0</td>\n",
       "      <td>0</td>\n",
       "      <td>1</td>\n",
       "      <td>0</td>\n",
       "    </tr>\n",
       "    <tr>\n",
       "      <th>2</th>\n",
       "      <td>28</td>\n",
       "      <td>1</td>\n",
       "      <td>33.000</td>\n",
       "      <td>3</td>\n",
       "      <td>1</td>\n",
       "      <td>4449.46200</td>\n",
       "      <td>0</td>\n",
       "      <td>0</td>\n",
       "      <td>1</td>\n",
       "      <td>0</td>\n",
       "    </tr>\n",
       "    <tr>\n",
       "      <th>3</th>\n",
       "      <td>33</td>\n",
       "      <td>1</td>\n",
       "      <td>22.705</td>\n",
       "      <td>0</td>\n",
       "      <td>1</td>\n",
       "      <td>21984.47061</td>\n",
       "      <td>0</td>\n",
       "      <td>1</td>\n",
       "      <td>0</td>\n",
       "      <td>0</td>\n",
       "    </tr>\n",
       "    <tr>\n",
       "      <th>4</th>\n",
       "      <td>32</td>\n",
       "      <td>1</td>\n",
       "      <td>28.880</td>\n",
       "      <td>0</td>\n",
       "      <td>1</td>\n",
       "      <td>3866.85520</td>\n",
       "      <td>0</td>\n",
       "      <td>1</td>\n",
       "      <td>0</td>\n",
       "      <td>0</td>\n",
       "    </tr>\n",
       "  </tbody>\n",
       "</table>\n",
       "</div>"
      ],
      "text/plain": [
       "   age  sex     bmi  children  smoker      charges  region_northeast  \\\n",
       "0   19    0  27.900         0       0  16884.92400                 0   \n",
       "1   18    1  33.770         1       1   1725.55230                 0   \n",
       "2   28    1  33.000         3       1   4449.46200                 0   \n",
       "3   33    1  22.705         0       1  21984.47061                 0   \n",
       "4   32    1  28.880         0       1   3866.85520                 0   \n",
       "\n",
       "   region_northwest  region_southeast  region_southwest  \n",
       "0                 0                 0                 1  \n",
       "1                 0                 1                 0  \n",
       "2                 0                 1                 0  \n",
       "3                 1                 0                 0  \n",
       "4                 1                 0                 0  "
      ]
     },
     "execution_count": 33,
     "metadata": {},
     "output_type": "execute_result"
    }
   ],
   "source": [
    "df = pd.get_dummies(df,columns=['region'])\n",
    "df.head()"
   ]
  },
  {
   "cell_type": "markdown",
   "metadata": {},
   "source": [
    "## 7. charges :"
   ]
  },
  {
   "cell_type": "code",
   "execution_count": 34,
   "metadata": {},
   "outputs": [
    {
     "data": {
      "text/plain": [
       "array([16884.924 ,  1725.5523,  4449.462 , ...,  1629.8335,  2007.945 ,\n",
       "       29141.3603])"
      ]
     },
     "execution_count": 34,
     "metadata": {},
     "output_type": "execute_result"
    }
   ],
   "source": [
    "df['charges'].unique()"
   ]
  },
  {
   "cell_type": "code",
   "execution_count": 35,
   "metadata": {},
   "outputs": [
    {
     "data": {
      "text/plain": [
       "1337"
      ]
     },
     "execution_count": 35,
     "metadata": {},
     "output_type": "execute_result"
    }
   ],
   "source": [
    "df['charges'].nunique()"
   ]
  },
  {
   "cell_type": "code",
   "execution_count": 36,
   "metadata": {},
   "outputs": [
    {
     "data": {
      "text/plain": [
       "<matplotlib.axes._subplots.AxesSubplot at 0x1e856c160a0>"
      ]
     },
     "execution_count": 36,
     "metadata": {},
     "output_type": "execute_result"
    },
    {
     "data": {
      "image/png": "[encoded data removed]",
      "text/plain": [
       "<Figure size 432x288 with 1 Axes>"
      ]
     },
     "metadata": {
      "needs_background": "light"
     },
     "output_type": "display_data"
    }
   ],
   "source": [
    "df[['charges']].boxplot()"
   ]
  },
  {
   "cell_type": "code",
   "execution_count": 37,
   "metadata": {},
   "outputs": [
    {
     "name": "stdout",
     "output_type": "stream",
     "text": [
      "34489.350562499996\n",
      "-13109.1508975\n"
     ]
    }
   ],
   "source": [
    "q1 = df['charges'].quantile(0.25)\n",
    "q2 = df['charges'].quantile(0.50)\n",
    "q3 = df['charges'].quantile(0.75)\n",
    "\n",
    "IQR = q3 - q1\n",
    "m = df['charges'].median()\n",
    "\n",
    "upper_tail = q3 + 1.5 * IQR\n",
    "lower_tail = q1 - 1.5 * IQR\n",
    "\n",
    "print(upper_tail)\n",
    "print(lower_tail)"
   ]
  },
  {
   "cell_type": "code",
   "execution_count": 38,
   "metadata": {},
   "outputs": [
    {
     "data": {
      "text/plain": [
       "count     1338.000000\n",
       "mean     13270.422265\n",
       "std      12110.011237\n",
       "min       1121.873900\n",
       "25%       4740.287150\n",
       "50%       9382.033000\n",
       "75%      16639.912515\n",
       "max      63770.428010\n",
       "Name: charges, dtype: float64"
      ]
     },
     "execution_count": 38,
     "metadata": {},
     "output_type": "execute_result"
    }
   ],
   "source": [
    "df['charges'].describe()"
   ]
  },
  {
   "cell_type": "code",
   "execution_count": 39,
   "metadata": {},
   "outputs": [
    {
     "data": {
      "text/plain": [
       "14      39611.75770\n",
       "19      36837.46700\n",
       "23      37701.87680\n",
       "29      38711.00000\n",
       "30      35585.57600\n",
       "34      51194.55914\n",
       "38      39774.27630\n",
       "39      48173.36100\n",
       "49      38709.17600\n",
       "53      37742.57570\n",
       "55      47496.49445\n",
       "82      37165.16380\n",
       "84      39836.51900\n",
       "86      43578.93940\n",
       "94      47291.05500\n",
       "109     47055.53210\n",
       "123     39556.49450\n",
       "146     40720.55105\n",
       "158     36950.25670\n",
       "161     36149.48350\n",
       "175     48824.45000\n",
       "185     43753.33705\n",
       "203     37133.89820\n",
       "223     34779.61500\n",
       "240     38511.62830\n",
       "242     35160.13457\n",
       "251     47305.30500\n",
       "252     44260.74990\n",
       "254     41097.16175\n",
       "256     43921.18370\n",
       "263     36219.40545\n",
       "265     46151.12450\n",
       "271     42856.83800\n",
       "281     48549.17835\n",
       "288     47896.79135\n",
       "292     42112.23560\n",
       "298     38746.35510\n",
       "312     42124.51530\n",
       "314     34838.87300\n",
       "322     35491.64000\n",
       "327     42760.50220\n",
       "328     47928.03000\n",
       "330     48517.56315\n",
       "338     41919.09700\n",
       "373     36085.21900\n",
       "377     38126.24650\n",
       "381     42303.69215\n",
       "420     46889.26120\n",
       "421     46599.10840\n",
       "422     39125.33225\n",
       "441     37079.37200\n",
       "476     35147.52848\n",
       "488     48885.13561\n",
       "500     36197.69900\n",
       "524     38245.59327\n",
       "530     48675.51770\n",
       "543     63770.42801\n",
       "549     45863.20500\n",
       "558     39983.42595\n",
       "569     45702.02235\n",
       "577     58571.07448\n",
       "587     43943.87610\n",
       "609     39241.44200\n",
       "615     42969.85270\n",
       "621     40182.24600\n",
       "623     34617.84065\n",
       "629     42983.45850\n",
       "665     42560.43040\n",
       "667     40003.33225\n",
       "668     45710.20785\n",
       "674     46200.98510\n",
       "677     46130.52650\n",
       "682     40103.89000\n",
       "689     34806.46770\n",
       "697     40273.64550\n",
       "706     44400.40640\n",
       "725     40932.42950\n",
       "736     40419.01910\n",
       "738     36189.10170\n",
       "739     44585.45587\n",
       "742     43254.41795\n",
       "759     36307.79830\n",
       "803     38792.68560\n",
       "819     55135.40209\n",
       "826     43813.86610\n",
       "828     39597.40720\n",
       "842     36021.01120\n",
       "845     45008.95550\n",
       "850     37270.15120\n",
       "852     42111.66470\n",
       "856     40974.16490\n",
       "860     46113.51100\n",
       "883     46255.11250\n",
       "893     44202.65360\n",
       "901     48673.55880\n",
       "917     35069.37452\n",
       "947     39047.28500\n",
       "951     47462.89400\n",
       "953     38998.54600\n",
       "956     41999.52000\n",
       "958     41034.22140\n",
       "1012    36580.28216\n",
       "1021    35595.58980\n",
       "1022    42211.13820\n",
       "1031    44423.80300\n",
       "1036    37484.44930\n",
       "1037    39725.51805\n",
       "1047    44501.39820\n",
       "1049    39727.61400\n",
       "1062    48970.24760\n",
       "1070    39871.70430\n",
       "1078    34672.14720\n",
       "1090    41676.08110\n",
       "1096    44641.19740\n",
       "1111    41949.24410\n",
       "1117    36124.57370\n",
       "1118    38282.74950\n",
       "1122    46661.44240\n",
       "1124    40904.19950\n",
       "1139    36898.73308\n",
       "1146    52590.82939\n",
       "1152    40941.28540\n",
       "1156    39722.74620\n",
       "1186    37465.34375\n",
       "1206    36910.60803\n",
       "1207    38415.47400\n",
       "1218    41661.60200\n",
       "1230    60021.39897\n",
       "1240    47269.85400\n",
       "1241    49577.66240\n",
       "1249    37607.52770\n",
       "1284    47403.88000\n",
       "1288    38344.56600\n",
       "1291    34828.65400\n",
       "1300    62592.87309\n",
       "1301    46718.16325\n",
       "1303    37829.72420\n",
       "1313    36397.57600\n",
       "1323    43896.37630\n",
       "Name: charges, dtype: float64"
      ]
     },
     "execution_count": 39,
     "metadata": {},
     "output_type": "execute_result"
    }
   ],
   "source": [
    "df['charges'].loc[df['charges']>upper_tail]"
   ]
  },
  {
   "cell_type": "code",
   "execution_count": 40,
   "metadata": {},
   "outputs": [],
   "source": [
    "df['charges'].loc[df['charges']>upper_tail]=upper_tail"
   ]
  },
  {
   "cell_type": "code",
   "execution_count": 41,
   "metadata": {},
   "outputs": [
    {
     "data": {
      "text/plain": [
       "Series([], Name: charges, dtype: float64)"
      ]
     },
     "execution_count": 41,
     "metadata": {},
     "output_type": "execute_result"
    }
   ],
   "source": [
    "df['charges'].loc[df['charges']>upper_tail]"
   ]
  },
  {
   "cell_type": "code",
   "execution_count": 42,
   "metadata": {},
   "outputs": [
    {
     "data": {
      "text/plain": [
       "<matplotlib.axes._subplots.AxesSubplot at 0x1e856c69b50>"
      ]
     },
     "execution_count": 42,
     "metadata": {},
     "output_type": "execute_result"
    },
    {
     "data": {
      "image/png": "[encoded data removed]",
      "text/plain": [
       "<Figure size 432x288 with 1 Axes>"
      ]
     },
     "metadata": {
      "needs_background": "light"
     },
     "output_type": "display_data"
    }
   ],
   "source": [
    "df[['charges']].boxplot()"
   ]
  },
  {
   "cell_type": "markdown",
   "metadata": {},
   "source": [
    "## Feature Selection :"
   ]
  },
  {
   "cell_type": "markdown",
   "metadata": {},
   "source": [
    "## Linearity "
   ]
  },
  {
   "cell_type": "code",
   "execution_count": 43,
   "metadata": {},
   "outputs": [
    {
     "data": {
      "text/html": [
       "<div>\n",
       "<style scoped>\n",
       "    .dataframe tbody tr th:only-of-type {\n",
       "        vertical-align: middle;\n",
       "    }\n",
       "\n",
       "    .dataframe tbody tr th {\n",
       "        vertical-align: top;\n",
       "    }\n",
       "\n",
       "    .dataframe thead th {\n",
       "        text-align: right;\n",
       "    }\n",
       "</style>\n",
       "<table border=\"1\" class=\"dataframe\">\n",
       "  <thead>\n",
       "    <tr style=\"text-align: right;\">\n",
       "      <th></th>\n",
       "      <th>charges</th>\n",
       "    </tr>\n",
       "  </thead>\n",
       "  <tbody>\n",
       "    <tr>\n",
       "      <th>age</th>\n",
       "      <td>0.313394</td>\n",
       "    </tr>\n",
       "    <tr>\n",
       "      <th>sex</th>\n",
       "      <td>0.052322</td>\n",
       "    </tr>\n",
       "    <tr>\n",
       "      <th>bmi</th>\n",
       "      <td>0.160996</td>\n",
       "    </tr>\n",
       "    <tr>\n",
       "      <th>children</th>\n",
       "      <td>0.073074</td>\n",
       "    </tr>\n",
       "    <tr>\n",
       "      <th>smoker</th>\n",
       "      <td>-0.785958</td>\n",
       "    </tr>\n",
       "    <tr>\n",
       "      <th>charges</th>\n",
       "      <td>1.000000</td>\n",
       "    </tr>\n",
       "    <tr>\n",
       "      <th>region_northeast</th>\n",
       "      <td>0.017236</td>\n",
       "    </tr>\n",
       "    <tr>\n",
       "      <th>region_northwest</th>\n",
       "      <td>-0.035204</td>\n",
       "    </tr>\n",
       "    <tr>\n",
       "      <th>region_southeast</th>\n",
       "      <td>0.059990</td>\n",
       "    </tr>\n",
       "    <tr>\n",
       "      <th>region_southwest</th>\n",
       "      <td>-0.044267</td>\n",
       "    </tr>\n",
       "  </tbody>\n",
       "</table>\n",
       "</div>"
      ],
      "text/plain": [
       "                   charges\n",
       "age               0.313394\n",
       "sex               0.052322\n",
       "bmi               0.160996\n",
       "children          0.073074\n",
       "smoker           -0.785958\n",
       "charges           1.000000\n",
       "region_northeast  0.017236\n",
       "region_northwest -0.035204\n",
       "region_southeast  0.059990\n",
       "region_southwest -0.044267"
      ]
     },
     "execution_count": 43,
     "metadata": {},
     "output_type": "execute_result"
    }
   ],
   "source": [
    "r = df.corr()[['charges']]\n",
    "r"
   ]
  },
  {
   "cell_type": "code",
   "execution_count": 44,
   "metadata": {},
   "outputs": [
    {
     "data": {
      "text/plain": [
       "<matplotlib.axes._subplots.AxesSubplot at 0x1e856c666d0>"
      ]
     },
     "execution_count": 44,
     "metadata": {},
     "output_type": "execute_result"
    },
    {
     "data": {
      "image/png": "[encoded data removed]",
      "text/plain": [
       "<Figure size 216x720 with 2 Axes>"
      ]
     },
     "metadata": {
      "needs_background": "light"
     },
     "output_type": "display_data"
    }
   ],
   "source": [
    "plt.figure(figsize=(3,10))\n",
    "sns.heatmap(r,annot=True)"
   ]
  },
  {
   "cell_type": "markdown",
   "metadata": {},
   "source": [
    "## Multicolinearity :"
   ]
  },
  {
   "cell_type": "code",
   "execution_count": 45,
   "metadata": {},
   "outputs": [
    {
     "data": {
      "text/html": [
       "<div>\n",
       "<style scoped>\n",
       "    .dataframe tbody tr th:only-of-type {\n",
       "        vertical-align: middle;\n",
       "    }\n",
       "\n",
       "    .dataframe tbody tr th {\n",
       "        vertical-align: top;\n",
       "    }\n",
       "\n",
       "    .dataframe thead th {\n",
       "        text-align: right;\n",
       "    }\n",
       "</style>\n",
       "<table border=\"1\" class=\"dataframe\">\n",
       "  <thead>\n",
       "    <tr style=\"text-align: right;\">\n",
       "      <th></th>\n",
       "      <th>age</th>\n",
       "      <th>sex</th>\n",
       "      <th>bmi</th>\n",
       "      <th>children</th>\n",
       "      <th>smoker</th>\n",
       "      <th>region_northeast</th>\n",
       "      <th>region_northwest</th>\n",
       "      <th>region_southeast</th>\n",
       "      <th>region_southwest</th>\n",
       "    </tr>\n",
       "  </thead>\n",
       "  <tbody>\n",
       "    <tr>\n",
       "      <th>0</th>\n",
       "      <td>19</td>\n",
       "      <td>0</td>\n",
       "      <td>27.900</td>\n",
       "      <td>0</td>\n",
       "      <td>0</td>\n",
       "      <td>0</td>\n",
       "      <td>0</td>\n",
       "      <td>0</td>\n",
       "      <td>1</td>\n",
       "    </tr>\n",
       "    <tr>\n",
       "      <th>1</th>\n",
       "      <td>18</td>\n",
       "      <td>1</td>\n",
       "      <td>33.770</td>\n",
       "      <td>1</td>\n",
       "      <td>1</td>\n",
       "      <td>0</td>\n",
       "      <td>0</td>\n",
       "      <td>1</td>\n",
       "      <td>0</td>\n",
       "    </tr>\n",
       "    <tr>\n",
       "      <th>2</th>\n",
       "      <td>28</td>\n",
       "      <td>1</td>\n",
       "      <td>33.000</td>\n",
       "      <td>3</td>\n",
       "      <td>1</td>\n",
       "      <td>0</td>\n",
       "      <td>0</td>\n",
       "      <td>1</td>\n",
       "      <td>0</td>\n",
       "    </tr>\n",
       "    <tr>\n",
       "      <th>3</th>\n",
       "      <td>33</td>\n",
       "      <td>1</td>\n",
       "      <td>22.705</td>\n",
       "      <td>0</td>\n",
       "      <td>1</td>\n",
       "      <td>0</td>\n",
       "      <td>1</td>\n",
       "      <td>0</td>\n",
       "      <td>0</td>\n",
       "    </tr>\n",
       "    <tr>\n",
       "      <th>4</th>\n",
       "      <td>32</td>\n",
       "      <td>1</td>\n",
       "      <td>28.880</td>\n",
       "      <td>0</td>\n",
       "      <td>1</td>\n",
       "      <td>0</td>\n",
       "      <td>1</td>\n",
       "      <td>0</td>\n",
       "      <td>0</td>\n",
       "    </tr>\n",
       "  </tbody>\n",
       "</table>\n",
       "</div>"
      ],
      "text/plain": [
       "   age  sex     bmi  children  smoker  region_northeast  region_northwest  \\\n",
       "0   19    0  27.900         0       0                 0                 0   \n",
       "1   18    1  33.770         1       1                 0                 0   \n",
       "2   28    1  33.000         3       1                 0                 0   \n",
       "3   33    1  22.705         0       1                 0                 1   \n",
       "4   32    1  28.880         0       1                 0                 1   \n",
       "\n",
       "   region_southeast  region_southwest  \n",
       "0                 0                 1  \n",
       "1                 1                 0  \n",
       "2                 1                 0  \n",
       "3                 0                 0  \n",
       "4                 0                 0  "
      ]
     },
     "execution_count": 45,
     "metadata": {},
     "output_type": "execute_result"
    }
   ],
   "source": [
    "df1 = df.drop('charges',axis = 1)\n",
    "df1.head()"
   ]
  },
  {
   "cell_type": "code",
   "execution_count": 46,
   "metadata": {},
   "outputs": [
    {
     "name": "stdout",
     "output_type": "stream",
     "text": [
      "[1.0174619308223147, 1.0087553624732213, 1.1064200096251202, 1.0040334014255625, 1.0120840759479972, 9.48327353416642, 9.605147947855574, 12.370064006795287, 10.19007042298484]\n"
     ]
    }
   ],
   "source": [
    "vif_list = []\n",
    "\n",
    "for i in range(df1.shape[1]):\n",
    "    \n",
    "    vif = variance_inflation_factor(df1.values,i)\n",
    "\n",
    "    vif_list.append(vif)\n",
    "    \n",
    "print(vif_list)"
   ]
  },
  {
   "cell_type": "markdown",
   "metadata": {},
   "source": [
    "## Model Building :"
   ]
  },
  {
   "cell_type": "code",
   "execution_count": 47,
   "metadata": {},
   "outputs": [],
   "source": [
    "x = df.drop('charges',axis = 1)\n",
    "y = df['charges']"
   ]
  },
  {
   "cell_type": "code",
   "execution_count": 48,
   "metadata": {},
   "outputs": [],
   "source": [
    "x_train,x_test,y_train,y_test = train_test_split(x,y,test_size=0.2,random_state=45)"
   ]
  },
  {
   "cell_type": "code",
   "execution_count": 49,
   "metadata": {},
   "outputs": [],
   "source": [
    "model = LinearRegression()"
   ]
  },
  {
   "cell_type": "code",
   "execution_count": 50,
   "metadata": {},
   "outputs": [
    {
     "data": {
      "text/html": [
       "<style>#sk-container-id-1 {color: black;}#sk-container-id-1 pre{padding: 0;}#sk-container-id-1 div.sk-toggleable {background-color: white;}#sk-container-id-1 label.sk-toggleable__label {cursor: pointer;display: block;width: 100%;margin-bottom: 0;padding: 0.3em;box-sizing: border-box;text-align: center;}#sk-container-id-1 label.sk-toggleable__label-arrow:before {content: \"▸\";float: left;margin-right: 0.25em;color: #696969;}#sk-container-id-1 label.sk-toggleable__label-arrow:hover:before {color: black;}#sk-container-id-1 div.sk-estimator:hover label.sk-toggleable__label-arrow:before {color: black;}#sk-container-id-1 div.sk-toggleable__content {max-height: 0;max-width: 0;overflow: hidden;text-align: left;background-color: #f0f8ff;}#sk-container-id-1 div.sk-toggleable__content pre {margin: 0.2em;color: black;border-radius: 0.25em;background-color: #f0f8ff;}#sk-container-id-1 input.sk-toggleable__control:checked~div.sk-toggleable__content {max-height: 200px;max-width: 100%;overflow: auto;}#sk-container-id-1 input.sk-toggleable__control:checked~label.sk-toggleable__label-arrow:before {content: \"▾\";}#sk-container-id-1 div.sk-estimator input.sk-toggleable__control:checked~label.sk-toggleable__label {background-color: #d4ebff;}#sk-container-id-1 div.sk-label input.sk-toggleable__control:checked~label.sk-toggleable__label {background-color: #d4ebff;}#sk-container-id-1 input.sk-hidden--visually {border: 0;clip: rect(1px 1px 1px 1px);clip: rect(1px, 1px, 1px, 1px);height: 1px;margin: -1px;overflow: hidden;padding: 0;position: absolute;width: 1px;}#sk-container-id-1 div.sk-estimator {font-family: monospace;background-color: #f0f8ff;border: 1px dotted black;border-radius: 0.25em;box-sizing: border-box;margin-bottom: 0.5em;}#sk-container-id-1 div.sk-estimator:hover {background-color: #d4ebff;}#sk-container-id-1 div.sk-parallel-item::after {content: \"\";width: 100%;border-bottom: 1px solid gray;flex-grow: 1;}#sk-container-id-1 div.sk-label:hover label.sk-toggleable__label {background-color: #d4ebff;}#sk-container-id-1 div.sk-serial::before {content: \"\";position: absolute;border-left: 1px solid gray;box-sizing: border-box;top: 0;bottom: 0;left: 50%;z-index: 0;}#sk-container-id-1 div.sk-serial {display: flex;flex-direction: column;align-items: center;background-color: white;padding-right: 0.2em;padding-left: 0.2em;position: relative;}#sk-container-id-1 div.sk-item {position: relative;z-index: 1;}#sk-container-id-1 div.sk-parallel {display: flex;align-items: stretch;justify-content: center;background-color: white;position: relative;}#sk-container-id-1 div.sk-item::before, #sk-container-id-1 div.sk-parallel-item::before {content: \"\";position: absolute;border-left: 1px solid gray;box-sizing: border-box;top: 0;bottom: 0;left: 50%;z-index: -1;}#sk-container-id-1 div.sk-parallel-item {display: flex;flex-direction: column;z-index: 1;position: relative;background-color: white;}#sk-container-id-1 div.sk-parallel-item:first-child::after {align-self: flex-end;width: 50%;}#sk-container-id-1 div.sk-parallel-item:last-child::after {align-self: flex-start;width: 50%;}#sk-container-id-1 div.sk-parallel-item:only-child::after {width: 0;}#sk-container-id-1 div.sk-dashed-wrapped {border: 1px dashed gray;margin: 0 0.4em 0.5em 0.4em;box-sizing: border-box;padding-bottom: 0.4em;background-color: white;}#sk-container-id-1 div.sk-label label {font-family: monospace;font-weight: bold;display: inline-block;line-height: 1.2em;}#sk-container-id-1 div.sk-label-container {text-align: center;}#sk-container-id-1 div.sk-container {/* jupyter's `normalize.less` sets `[hidden] { display: none; }` but bootstrap.min.css set `[hidden] { display: none !important; }` so we also need the `!important` here to be able to override the default hidden behavior on the sphinx rendered scikit-learn.org. See: https://github.com/scikit-learn/scikit-learn/issues/21755 */display: inline-block !important;position: relative;}#sk-container-id-1 div.sk-text-repr-fallback {display: none;}</style><div id=\"sk-container-id-1\" class=\"sk-top-container\"><div class=\"sk-text-repr-fallback\"><pre>LinearRegression()</pre><b>In a Jupyter environment, please rerun this cell to show the HTML representation or trust the notebook. <br />On GitHub, the HTML representation is unable to render, please try loading this page with nbviewer.org.</b></div><div class=\"sk-container\" hidden><div class=\"sk-item\"><div class=\"sk-estimator sk-toggleable\"><input class=\"sk-toggleable__control sk-hidden--visually\" id=\"sk-estimator-id-1\" type=\"checkbox\" checked><label for=\"sk-estimator-id-1\" class=\"sk-toggleable__label sk-toggleable__label-arrow\">LinearRegression</label><div class=\"sk-toggleable__content\"><pre>LinearRegression()</pre></div></div></div></div></div>"
      ],
      "text/plain": [
       "LinearRegression()"
      ]
     },
     "execution_count": 50,
     "metadata": {},
     "output_type": "execute_result"
    }
   ],
   "source": [
    "model.fit(x_train,y_train)"
   ]
  },
  {
   "cell_type": "code",
   "execution_count": 51,
   "metadata": {},
   "outputs": [],
   "source": [
    "y_pred_test = model.predict(x_test)\n",
    "\n",
    "y_pred_train = model.predict(x_train)"
   ]
  },
  {
   "cell_type": "markdown",
   "metadata": {},
   "source": [
    "## Model Evaluation :"
   ]
  },
  {
   "cell_type": "code",
   "execution_count": 52,
   "metadata": {},
   "outputs": [
    {
     "name": "stdout",
     "output_type": "stream",
     "text": [
      "26968281.71164487\n",
      "5193.099432096873\n",
      "3522.5552399454\n",
      "Testing Accuracy : 0.71\n"
     ]
    }
   ],
   "source": [
    "# for testing data\n",
    "\n",
    "mse = mean_squared_error(y_test,y_pred_test)\n",
    "\n",
    "rmse = np.sqrt(mse)\n",
    "\n",
    "mae_test = mean_absolute_error(y_test,y_pred_test)\n",
    "\n",
    "acc = r2_score(y_test,y_pred_test)\n",
    "\n",
    "print(mse)\n",
    "\n",
    "print(rmse)\n",
    "\n",
    "print(mae_test)\n",
    "\n",
    "print('Testing Accuracy :',round(acc,2))"
   ]
  },
  {
   "cell_type": "code",
   "execution_count": 53,
   "metadata": {},
   "outputs": [
    {
     "name": "stdout",
     "output_type": "stream",
     "text": [
      "25806959.883951202\n",
      "5080.055106389222\n",
      "3306.469234359973\n",
      "Training Accuracy : 0.76\n"
     ]
    }
   ],
   "source": [
    "# for training data\n",
    "\n",
    "mse = mean_squared_error(y_train,y_pred_train)\n",
    "\n",
    "rmse = np.sqrt(mse)\n",
    "\n",
    "mae_train = mean_absolute_error(y_train,y_pred_train)\n",
    "\n",
    "acc = r2_score(y_train,y_pred_train)\n",
    "\n",
    "print(mse)\n",
    "\n",
    "print(rmse)\n",
    "\n",
    "print(mae_train)\n",
    "\n",
    "print('Training Accuracy :',round(acc,2))"
   ]
  },
  {
   "cell_type": "markdown",
   "metadata": {},
   "source": [
    "## Normality of Residual :"
   ]
  },
  {
   "cell_type": "code",
   "execution_count": 54,
   "metadata": {},
   "outputs": [
    {
     "data": {
      "text/plain": [
       "1075    -1522.218490\n",
       "761     -3126.477367\n",
       "6       -1764.370121\n",
       "1171    -6306.636618\n",
       "127     -2279.668449\n",
       "1335    -2509.578894\n",
       "1326    -2506.610185\n",
       "861      -994.344442\n",
       "450     -1689.221163\n",
       "839        62.211415\n",
       "1024    -4252.434121\n",
       "1195    14456.545407\n",
       "343     -1075.075769\n",
       "643     -2332.056624\n",
       "801       252.995084\n",
       "969     -1880.932097\n",
       "1056     -898.759560\n",
       "408       158.948604\n",
       "1278    -6557.014490\n",
       "753      1978.205934\n",
       "1251      399.552655\n",
       "482     -1314.691475\n",
       "629      3286.125136\n",
       "536     -3456.928184\n",
       "180       -33.356823\n",
       "1255    -3350.852837\n",
       "63       -881.391762\n",
       "739      6826.695129\n",
       "820     -2606.606810\n",
       "262     -6691.720951\n",
       "670     -2181.880099\n",
       "979     -1692.775880\n",
       "374     -2449.488677\n",
       "736      5556.202990\n",
       "990       574.463267\n",
       "1248    -3154.818100\n",
       "390     -2592.268790\n",
       "120     -3290.569865\n",
       "705     -2287.550084\n",
       "1018    -1306.177702\n",
       "172      1080.700294\n",
       "202      1831.742508\n",
       "773     -5756.337336\n",
       "1274    -7025.554856\n",
       "1318     8132.686269\n",
       "534     -1247.305983\n",
       "844     -1415.322370\n",
       "8       -2327.439936\n",
       "1322    -1296.583409\n",
       "403     -1695.643527\n",
       "690     -1662.102969\n",
       "1240      571.417792\n",
       "160     -6714.555192\n",
       "448     -1659.458747\n",
       "1039    18680.269657\n",
       "502     -6960.527568\n",
       "467      -706.767243\n",
       "538      -593.380450\n",
       "470     -2738.738405\n",
       "488      4089.291717\n",
       "1306    -8453.197830\n",
       "872      -859.285882\n",
       "507      -407.499294\n",
       "948     -2474.189043\n",
       "197      -664.900570\n",
       "1198    -2039.073956\n",
       "452      -758.841344\n",
       "141     -2951.497475\n",
       "388      -216.635104\n",
       "250     -9264.733105\n",
       "4       -2248.173189\n",
       "372     -2434.391630\n",
       "1034    -1618.177690\n",
       "1192     -406.338700\n",
       "576     -1196.761870\n",
       "1097    -2702.320018\n",
       "822     -1266.895978\n",
       "200     -1800.813336\n",
       "676     -2019.076933\n",
       "137     -1060.611832\n",
       "206       842.691681\n",
       "522     -1897.603361\n",
       "962       347.179945\n",
       "666     -1135.322217\n",
       "231      1454.920679\n",
       "173     -2816.829170\n",
       "195     -1991.083287\n",
       "1259      561.122454\n",
       "909     -7501.524857\n",
       "1003    11871.356737\n",
       "556     -2712.490603\n",
       "309     -2136.827916\n",
       "731       943.258570\n",
       "1289    -2641.653143\n",
       "446      -108.501908\n",
       "1006    -2192.165582\n",
       "1269     -991.371914\n",
       "1286      660.566433\n",
       "1228    -1402.480429\n",
       "256      1779.414476\n",
       "750     -6772.383898\n",
       "134     -1369.210880\n",
       "1035     1524.394063\n",
       "97      -2392.328448\n",
       "542       -25.932987\n",
       "75      -1376.656626\n",
       "692     -2337.797338\n",
       "575       796.721028\n",
       "1222     -238.638268\n",
       "1279     -808.125472\n",
       "1010      426.479214\n",
       "953      4687.506485\n",
       "472     -1252.476542\n",
       "118      -237.477434\n",
       "1111     3940.249778\n",
       "762     -7209.784611\n",
       "514     -6750.068365\n",
       "529      -983.196157\n",
       "639      -698.654397\n",
       "830       -30.310038\n",
       "1124     6215.557532\n",
       "222     -2216.407102\n",
       "1104    13434.578591\n",
       "445     -2089.897521\n",
       "151     -1413.963855\n",
       "11      -3975.505503\n",
       "1091     -463.680584\n",
       "832      -293.199094\n",
       "98      -7708.313624\n",
       "926       406.208805\n",
       "527       248.070366\n",
       "766     -2123.393997\n",
       "611     -2605.795244\n",
       "1020    -2839.783755\n",
       "479     -2507.975960\n",
       "850      6209.443475\n",
       "932      -267.605353\n",
       "894      -264.275334\n",
       "381      2241.129973\n",
       "1066    -2794.637597\n",
       "720     -3362.969842\n",
       "495     -1703.953582\n",
       "683       128.262451\n",
       "512        79.217962\n",
       "755     -1905.650708\n",
       "901       -85.377310\n",
       "774     -2904.988873\n",
       "240      7090.037909\n",
       "58      -6269.939288\n",
       "166     -2234.724733\n",
       "862      -798.277176\n",
       "1159    -4336.018322\n",
       "1113     -695.676724\n",
       "767     -1283.172292\n",
       "433       473.690738\n",
       "1160    -2475.935144\n",
       "797      -472.621373\n",
       "143     11605.777899\n",
       "284      -932.704449\n",
       "1088    -4634.934822\n",
       "102     17667.362815\n",
       "847     -5569.671173\n",
       "27       -633.165460\n",
       "1071       80.706244\n",
       "627      2176.368862\n",
       "7       -1016.701758\n",
       "204      -177.899691\n",
       "1229     -606.910312\n",
       "915     -2359.958481\n",
       "321     17519.646927\n",
       "996     -2280.498390\n",
       "1337    -3639.404577\n",
       "549      2529.409911\n",
       "682      4671.761840\n",
       "964     13321.022190\n",
       "732     -1291.531746\n",
       "904      -525.669649\n",
       "984     -1507.972525\n",
       "109       529.708532\n",
       "641      2954.232099\n",
       "48       1949.777612\n",
       "911      9391.033393\n",
       "176     -1659.610728\n",
       "1014    -1309.849883\n",
       "1028    -1266.875084\n",
       "332       470.876996\n",
       "183      -762.404818\n",
       "1064     -387.897007\n",
       "975     -8689.714823\n",
       "132     -1552.270340\n",
       "1069     -498.331037\n",
       "947      4975.329018\n",
       "191     -1063.688373\n",
       "1162    11266.095831\n",
       "257     -3857.274828\n",
       "513     -1903.321280\n",
       "65      -1056.949510\n",
       "96       -170.173550\n",
       "605     -1510.167930\n",
       "1152     4147.096654\n",
       "791     -1295.014958\n",
       "1052    -1629.353474\n",
       "299      -806.763144\n",
       "1148     1208.208996\n",
       "748     -2406.733969\n",
       "81      -3464.886684\n",
       "1285     -251.899249\n",
       "738      7683.772729\n",
       "1151    -1225.897494\n",
       "735     -1980.034118\n",
       "328       -10.571192\n",
       "101     -1684.502246\n",
       "829      -454.406586\n",
       "30       9253.623226\n",
       "1101     -352.686791\n",
       "298      5745.307058\n",
       "64      -7600.536923\n",
       "701     -4370.242142\n",
       "3       16999.691990\n",
       "653     -2337.742957\n",
       "385     -2772.330312\n",
       "471     -1474.012035\n",
       "663     -2337.037574\n",
       "76      -1478.048968\n",
       "876     16682.903079\n",
       "1144    -1670.224072\n",
       "859       -46.211703\n",
       "1107      124.678962\n",
       "25       1478.818428\n",
       "600     -3011.431610\n",
       "1252    -6748.417247\n",
       "680      1404.894557\n",
       "153     -7794.352526\n",
       "662     -2373.487492\n",
       "660     -5393.790098\n",
       "531       338.773907\n",
       "1163    -1061.232745\n",
       "156     -7105.060726\n",
       "62      17474.932296\n",
       "417     -7741.478141\n",
       "67      -1378.627092\n",
       "506     -2268.009077\n",
       "225     -1034.012168\n",
       "376     -7136.500092\n",
       "1100    -8979.032660\n",
       "100     -2041.426437\n",
       "354      9680.966927\n",
       "1072    -2306.248387\n",
       "210     -2422.750877\n",
       "1059    -3187.263896\n",
       "945     -1224.578085\n",
       "900      -174.288654\n",
       "737      -659.178474\n",
       "282     -2025.062982\n",
       "938      -443.719787\n",
       "236      -310.986043\n",
       "781     -3962.084464\n",
       "846     -1576.848601\n",
       "246      -989.645439\n",
       "1125     2186.062376\n",
       "851       -29.013065\n",
       "1296    -1127.668908\n",
       "248       294.710619\n",
       "988     -3705.018500\n",
       "19       7560.286510\n",
       "864      -319.657562\n",
       "856      4292.106197\n",
       "223     10088.135555\n",
       "709     -1646.793056\n",
       "114     -1517.666213\n",
       "516     22995.495151\n",
       "281     -1063.783018\n",
       "1030    -7076.405540\n",
       "726     -1780.147485\n",
       "162     -2870.757700\n",
       "539     16682.352618\n",
       "426     -1351.471134\n",
       "29       6212.048974\n",
       "1083    -2636.754579\n",
       "778     -2785.679679\n",
       "989     -8606.486457\n",
       "474     -5957.997855\n",
       "685      -259.576000\n",
       "749     -2609.246747\n",
       "413      -251.869407\n",
       "550       469.370156\n",
       "418      -826.397554\n",
       "237     -3812.399121\n",
       "1021     9100.995388\n",
       "357     -1364.994101\n",
       "707      -911.362876\n",
       "936     21856.519980\n",
       "874       -91.873688\n",
       "21      -2289.067880\n",
       "404      -351.392789\n",
       "860      2521.466897\n",
       "1201    -3882.947436\n",
       "645     -1673.817048\n",
       "879     -1486.717103\n",
       "967      -921.734143\n",
       "208       772.611280\n",
       "843     -3920.607581\n",
       "1005    -2554.901706\n",
       "1015      821.333832\n",
       "1291    10066.271329\n",
       "12      -3086.811009\n",
       "140     20921.791798\n",
       "1157    10657.866178\n",
       "169       226.518172\n",
       "1158    -1761.351206\n",
       "1114    -1186.722382\n",
       "266     -8835.022452\n",
       "1090     3807.060834\n",
       "1037     4460.014701\n",
       "139     -2845.390064\n",
       "272     -3524.157808\n",
       "212     -1645.041042\n",
       "561     -1229.550345\n",
       "84       5252.308700\n",
       "681       290.926526\n",
       "290     -2590.831238\n",
       "189     -2116.964181\n",
       "217      -659.634296\n",
       "51      -2033.458220\n",
       "409     -2138.302866\n",
       "1002    -1280.246764\n",
       "128      7891.562095\n",
       "423     -2624.500459\n",
       "885     -6532.124175\n",
       "165     -1082.048384\n",
       "60      -1361.648455\n",
       "103     -2780.437681\n",
       "1263    -1412.710499\n",
       "734       348.162644\n",
       "723     -2989.582570\n",
       "1204    -5467.717233\n",
       "845      1798.015998\n",
       "89        357.540479\n",
       "747       -71.659587\n",
       "871     -1349.447697\n",
       "712     -1495.602151\n",
       "1178    -2915.876131\n",
       "91        679.696459\n",
       "1203    -1933.098899\n",
       "878     -1819.478050\n",
       "612     -2134.458899\n",
       "825       994.149491\n",
       "624        98.970074\n",
       "164     -2352.380776\n",
       "2       -2442.926480\n",
       "23       6164.925271\n",
       "1185     -518.069671\n",
       "219     22605.438801\n",
       "557     -3176.369101\n",
       "972       533.107705\n",
       "837        19.969674\n",
       "428      1283.450922\n",
       "1173    -1969.195196\n",
       "661     11837.305235\n",
       "1210    -2512.184692\n",
       "147     -2164.658179\n",
       "583     12839.913933\n",
       "362     -7661.002045\n",
       "935       945.116686\n",
       "634     -3292.229403\n",
       "1146     1510.906932\n",
       "1099    -2280.902207\n",
       "493     -2662.299947\n",
       "1177    -1047.368331\n",
       "79      -2384.459847\n",
       "216       153.420685\n",
       "44      -3997.777861\n",
       "461     -6264.622174\n",
       "303     -2056.568545\n",
       "903     -2860.972674\n",
       "1013    -2070.259249\n",
       "710     -2537.470603\n",
       "26       2417.428504\n",
       "85      -7755.458585\n",
       "642      -850.198485\n",
       "836     -2735.618724\n",
       "1325     -767.642627\n",
       "468     18224.950107\n",
       "1126     -750.845419\n",
       "1061      301.775000\n",
       "924      -611.749201\n",
       "367      -323.253106\n",
       "1257      200.502350\n",
       "258       384.393627\n",
       "301     -6502.667381\n",
       "941     -4100.683882\n",
       "728     -3682.381238\n",
       "1214    -2002.272600\n",
       "31       -648.453455\n",
       "358     -4539.284573\n",
       "790     -4176.656228\n",
       "769       677.111532\n",
       "560      1074.923316\n",
       "1166    -2532.806015\n",
       "1063    -1748.578648\n",
       "1207     5746.780652\n",
       "59      -3292.093100\n",
       "308     -1597.580608\n",
       "1235    -2573.996328\n",
       "327      2665.082853\n",
       "827     -7170.411677\n",
       "1165    -1314.837486\n",
       "772      2011.547236\n",
       "960     -3297.156085\n",
       "427      3853.961079\n",
       "485     -2396.430944\n",
       "383     -4358.937112\n",
       "1043     -939.714077\n",
       "1057     8959.834101\n",
       "779      -862.407846\n",
       "957      8255.885791\n",
       "1047     6421.921571\n",
       "752      -913.456390\n",
       "647      -152.107041\n",
       "524      6664.186804\n",
       "987     19213.552217\n",
       "396     -2122.074764\n",
       "1181    -1702.403023\n",
       "1237      569.692418\n",
       "863        66.240998\n",
       "146      3298.926041\n",
       "619     -1794.568294\n",
       "614     -1857.302049\n",
       "215     -2968.042960\n",
       "1139    10195.208476\n",
       "530      -145.200472\n",
       "1305     -997.786823\n",
       "602       922.435176\n",
       "1221     -726.712386\n",
       "798      -445.100784\n",
       "399     -2796.351874\n",
       "518     -1991.270590\n",
       "342       866.048694\n",
       "178      -823.000315\n",
       "1078     8970.594726\n",
       "254      3091.208669\n",
       "349     -1392.553316\n",
       "293     -1106.427958\n",
       "125     -1760.219925\n",
       "54      -1105.836926\n",
       "919     -2509.559444\n",
       "226     -3944.629250\n",
       "551     -1512.967448\n",
       "792      -308.752322\n",
       "688     17874.781871\n",
       "280     -6481.214955\n",
       "412     -9345.209151\n",
       "152     -3322.915502\n",
       "1246      -79.824467\n",
       "80      -1874.674440\n",
       "782     -2302.787587\n",
       "1264    -1738.366330\n",
       "1150    -1515.289964\n",
       "889     -1159.965319\n",
       "17      -1042.249631\n",
       "497     -1386.210072\n",
       "192     -1143.199909\n",
       "946     -3146.845582\n",
       "53       6610.399123\n",
       "893      2296.065521\n",
       "365     -1315.249736\n",
       "951       550.777483\n",
       "1220     -266.231728\n",
       "274     -1762.001467\n",
       "1272     5013.664045\n",
       "431       462.906383\n",
       "126     -5867.466948\n",
       "816      -464.065152\n",
       "573     16338.798932\n",
       "949     -6036.472192\n",
       "694     -2725.947777\n",
       "880     -2702.774393\n",
       "1187      334.436390\n",
       "815     -1522.733571\n",
       "353      4276.274437\n",
       "591       595.743169\n",
       "1142    18124.652140\n",
       "443     14751.259521\n",
       "1132     6202.763729\n",
       "28        697.387532\n",
       "1225    -3745.980264\n",
       "673     -1736.329234\n",
       "469       396.695367\n",
       "928      -847.783271\n",
       "896     -8363.654046\n",
       "1283    -1414.276429\n",
       "751     -1810.913238\n",
       "841       784.393421\n",
       "970        62.920001\n",
       "317     -1770.682692\n",
       "1268    -2101.568620\n",
       "809     -1458.416785\n",
       "770     12936.433461\n",
       "810     -1101.644157\n",
       "1215     7207.834004\n",
       "1174    -2637.457564\n",
       "940       -66.751477\n",
       "18      -2856.842077\n",
       "229      -751.789310\n",
       "684       706.746984\n",
       "1094    -1185.612954\n",
       "759      9750.268213\n",
       "395       306.798002\n",
       "179     -2225.383560\n",
       "36        674.925841\n",
       "325     -3273.074310\n",
       "305     12100.956848\n",
       "1219    -1520.956010\n",
       "1254    -1245.908564\n",
       "1208    -7295.502391\n",
       "775     -1460.970730\n",
       "483     -2728.285569\n",
       "725      5586.368663\n",
       "691     -2970.677804\n",
       "491     13492.852756\n",
       "997      -145.421729\n",
       "1167     -438.915645\n",
       "1223     3984.684502\n",
       "498       259.364036\n",
       "1200     -928.327867\n",
       "1298    -1671.588999\n",
       "1316      746.244231\n",
       "831     -1031.961638\n",
       "1206    20694.821662\n",
       "615      3287.487071\n",
       "1161    -4628.736088\n",
       "817     -3270.985761\n",
       "131      2250.165461\n",
       "1303     6341.843182\n",
       "185      2603.013913\n",
       "1224    -1012.168281\n",
       "857     -7998.997537\n",
       "1242      708.485440\n",
       "499     -1035.564255\n",
       "966     -6621.246920\n",
       "853       838.808390\n",
       "476      9534.714704\n",
       "283      -886.797178\n",
       "702     -3372.038803\n",
       "161     10070.369376\n",
       "392     -2086.560696\n",
       "525      7992.589962\n",
       "980     14455.869253\n",
       "526     19550.798082\n",
       "1092    -2315.075825\n",
       "665      3367.935404\n",
       "656     -4335.437764\n",
       "650     -3338.789059\n",
       "22      -2432.628567\n",
       "130       912.746478\n",
       "273     -1000.308535\n",
       "1244    -2265.344328\n",
       "546     -3801.969172\n",
       "603       -13.735526\n",
       "181     -2820.249623\n",
       "729     -2701.490212\n",
       "868      1378.809682\n",
       "1115    -1039.407832\n",
       "57      10073.344001\n",
       "359       979.492370\n",
       "306     14795.082110\n",
       "71      -1688.995044\n",
       "973     -3577.075703\n",
       "344     -2807.642931\n",
       "188     -2037.642344\n",
       "899       283.722079\n",
       "82       8536.192206\n",
       "186     -1310.903242\n",
       "1170    -6662.368791\n",
       "149     -1334.681316\n",
       "807     -2770.844668\n",
       "73       -415.562864\n",
       "840     -2226.090209\n",
       "501     -1475.109297\n",
       "869       -86.547823\n",
       "745      -855.654031\n",
       "50      -2671.071977\n",
       "796     -5064.256611\n",
       "326       -28.903213\n",
       "651     -2311.148249\n",
       "959     16677.944093\n",
       "1129     1180.748747\n",
       "918      1160.427758\n",
       "1196     9553.455090\n",
       "405     -2472.840971\n",
       "908     -1083.493822\n",
       "744      -705.363246\n",
       "646     -1403.798953\n",
       "74      -1183.222962\n",
       "410       857.093816\n",
       "312      3370.033172\n",
       "449     -4162.881133\n",
       "251       104.258043\n",
       "346     -3248.121508\n",
       "570     -1720.994051\n",
       "318     -1030.711357\n",
       "135      -939.143720\n",
       "35        217.285916\n",
       "503      9321.038660\n",
       "821       336.097668\n",
       "811     -4381.111384\n",
       "848      -535.484065\n",
       "1299     -283.867266\n",
       "168     -1604.760995\n",
       "675      -109.592256\n",
       "1190    -2297.609281\n",
       "416     -1904.138487\n",
       "335      -127.228373\n",
       "1267     8738.600100\n",
       "1230     1107.346387\n",
       "1093     9410.769710\n",
       "242     23778.288974\n",
       "267        35.537022\n",
       "813      -726.799102\n",
       "1103    -1433.915003\n",
       "108     -1774.211573\n",
       "1238     -645.382150\n",
       "950      1826.720391\n",
       "689      8855.849590\n",
       "877     -2343.862448\n",
       "1135     -153.964880\n",
       "727     -8344.878418\n",
       "113     -2755.786336\n",
       "976     -3684.249952\n",
       "644      8565.565314\n",
       "562     -2446.391899\n",
       "714       -64.546155\n",
       "1297     -646.601391\n",
       "1042     8922.912654\n",
       "520     15545.733224\n",
       "1261    -3781.022528\n",
       "794     -1987.507993\n",
       "275      -478.963501\n",
       "201     -1308.983237\n",
       "263      9187.477411\n",
       "828      3933.891740\n",
       "122     -1208.436681\n",
       "1314    -7379.683858\n",
       "190        86.885159\n",
       "1054      -10.594704\n",
       "584       204.025623\n",
       "1280    -1682.096169\n",
       "733      -657.952875\n",
       "985      -449.261415\n",
       "1046     -748.226269\n",
       "1217    -3537.249289\n",
       "1016      -36.199692\n",
       "1048      -13.507517\n",
       "1136     -275.459609\n",
       "998     -3138.435996\n",
       "40      -1182.091393\n",
       "631     -2040.629667\n",
       "341       391.834013\n",
       "1027    19681.648021\n",
       "1275      909.698232\n",
       "492      -380.146916\n",
       "1156     8063.312487\n",
       "1211    14466.457853\n",
       "429     12123.618377\n",
       "425       149.024579\n",
       "1179    -6419.124436\n",
       "41      -2909.541764\n",
       "1022     3376.246931\n",
       "481     -2736.088268\n",
       "123      4059.396234\n",
       "954     -7051.079272\n",
       "589     -1667.933019\n",
       "1119      637.509551\n",
       "532       394.030126\n",
       "965     -1664.480166\n",
       "159      9181.812926\n",
       "925     13242.717592\n",
       "921       267.949293\n",
       "142     -7380.249379\n",
       "622       992.837875\n",
       "835     -3004.687572\n",
       "239     -3454.176588\n",
       "1149    -3045.787639\n",
       "693      -860.724748\n",
       "999     -1258.990248\n",
       "804     -1193.599799\n",
       "1147    -1848.244581\n",
       "564     -1213.704817\n",
       "93      -3243.153615\n",
       "668       411.272551\n",
       "441      7325.737435\n",
       "259      9549.282417\n",
       "906     -2745.492718\n",
       "1247    -1779.389667\n",
       "463        15.450404\n",
       "852      3192.097182\n",
       "136     -2707.154635\n",
       "345     -1178.070697\n",
       "456       164.869211\n",
       "535     -2037.076233\n",
       "148     -2065.285821\n",
       "291     13799.292848\n",
       "537     -1105.428250\n",
       "380     -9180.308041\n",
       "348     -1558.640432\n",
       "464      -814.662310\n",
       "455      8312.237349\n",
       "805     -2726.221479\n",
       "94         81.169901\n",
       "360     -1617.682546\n",
       "424     -1433.409981\n",
       "407       287.194030\n",
       "158      7689.089684\n",
       "279      1348.310834\n",
       "391     -2956.595349\n",
       "719      -565.450630\n",
       "609      6103.951762\n",
       "150     -1065.725038\n",
       "453     -1894.041780\n",
       "585     -1236.716684\n",
       "496      -257.835736\n",
       "1231    -1579.902415\n",
       "484     -2190.008791\n",
       "1320    -2312.465854\n",
       "352     -1402.117716\n",
       "696     16426.219943\n",
       "447       799.912808\n",
       "1084     1077.403470\n",
       "606     -1017.566447\n",
       "1293     -570.411453\n",
       "824      1249.332232\n",
       "20       -970.819148\n",
       "541     -1326.155920\n",
       "47      -2934.950910\n",
       "983     10581.412864\n",
       "672     -2165.473766\n",
       "1098    11726.464239\n",
       "916     -6571.118260\n",
       "717      1383.467680\n",
       "1089     1097.149019\n",
       "812      1481.188119\n",
       "1324    -1466.232667\n",
       "83      -3087.422186\n",
       "310      -700.157097\n",
       "626     -2012.547669\n",
       "1009     -942.428603\n",
       "1133     1815.761772\n",
       "1062     -368.476984\n",
       "558      4959.648787\n",
       "991     -1341.169473\n",
       "119      -201.444839\n",
       "552      2311.032555\n",
       "174     -2445.405745\n",
       "269      -762.516964\n",
       "1023       43.486223\n",
       "565     -1449.950940\n",
       "890     -3631.646916\n",
       "711       932.489985\n",
       "1033    -8371.282404\n",
       "338      2532.489045\n",
       "1081    -1887.009131\n",
       "157     -7390.273056\n",
       "898     -3250.409094\n",
       "375     -6225.714245\n",
       "943      -257.410268\n",
       "540     -3255.946325\n",
       "1334    -1866.152361\n",
       "993     -1662.675937\n",
       "45       8046.849381\n",
       "886     -5095.637427\n",
       "72        276.432721\n",
       "515     -1530.450038\n",
       "703     -1052.747629\n",
       "858     13094.948458\n",
       "402       680.263148\n",
       "963      -566.073936\n",
       "687     -4627.441036\n",
       "929     -2815.721872\n",
       "460     -1890.277450\n",
       "1265    -4775.777021\n",
       "616       -41.947219\n",
       "783     -5545.949317\n",
       "90      -3349.252377\n",
       "630     -2250.349623\n",
       "442     -4368.346186\n",
       "504     -1285.569044\n",
       "1249     6199.285976\n",
       "457       -92.521556\n",
       "271      2493.740408\n",
       "121      -611.694796\n",
       "544     -1011.378523\n",
       "814     -2924.806050\n",
       "955     -4185.512053\n",
       "302     -1282.853104\n",
       "400      1243.646660\n",
       "88       -885.742670\n",
       "776     -2544.746408\n",
       "55       -297.032484\n",
       "942     -3661.742273\n",
       "386     -1558.660826\n",
       "334      7835.219322\n",
       "1085    -8410.510609\n",
       "1130      389.354000\n",
       "1007    -5996.565497\n",
       "1270    -3059.029815\n",
       "371      1501.016229\n",
       "1243    -2348.737190\n",
       "587      6940.855660\n",
       "597     -2740.805202\n",
       "1180    -4209.342578\n",
       "401     -5200.594752\n",
       "1137     -134.079246\n",
       "220     -2590.032512\n",
       "177      -611.334216\n",
       "1271    -2748.152494\n",
       "397     13030.677775\n",
       "1273    -1596.187924\n",
       "907     -1691.000289\n",
       "1216    -1018.881030\n",
       "855     -1297.735265\n",
       "1082      -80.712122\n",
       "1       -2226.799874\n",
       "787     -3523.947293\n",
       "842      8951.183392\n",
       "1226      532.457028\n",
       "435       -32.333800\n",
       "430     19333.000953\n",
       "873     -1976.654333\n",
       "1311    -1254.254797\n",
       "95      -3194.409426\n",
       "1036     8201.580896\n",
       "105     -6463.748764\n",
       "494     -6728.655016\n",
       "912      1475.927021\n",
       "356     -4286.878704\n",
       "1123    12293.843058\n",
       "252      1791.180182\n",
       "1155      -26.687806\n",
       "244     -3808.589550\n",
       "213      -896.693380\n",
       "944     -1535.560892\n",
       "307     -2312.021587\n",
       "981      -815.563469\n",
       "1065     -479.338938\n",
       "292      5690.082449\n",
       "986     -1758.126299\n",
       "1308     9217.488717\n",
       "887     -1940.076077\n",
       "261     -6039.701484\n",
       "1266     -360.703391\n",
       "905     -1615.782816\n",
       "1183     -678.591840\n",
       "578     -1101.810126\n",
       "1172    -2507.033936\n",
       "664     -4464.529400\n",
       "406      -510.533190\n",
       "1145    -1439.447872\n",
       "1040    -6600.908441\n",
       "333       -83.225148\n",
       "704     -1050.854722\n",
       "743     -1003.117558\n",
       "366      -444.460491\n",
       "884     -1039.708994\n",
       "1121    -3178.331236\n",
       "571     -2471.034439\n",
       "574      -851.861368\n",
       "625     -1064.341349\n",
       "1290      371.864582\n",
       "914     -1052.420064\n",
       "314      9104.083222\n",
       "543      -127.438066\n",
       "511     -2953.818141\n",
       "1288     7952.785890\n",
       "340     15339.960725\n",
       "205     -1723.251789\n",
       "1304    -7710.966551\n",
       "601     -1720.709468\n",
       "808     -1572.309625\n",
       "1077    -1373.157466\n",
       "834     -3151.992592\n",
       "1250    -6597.008362\n",
       "379     13879.584511\n",
       "1197    -2806.470830\n",
       "803      8891.887605\n",
       "444     -5539.187529\n",
       "1202    -2567.256241\n",
       "1262     -956.954580\n",
       "56       -148.369465\n",
       "1154     -197.967154\n",
       "968     -1042.969676\n",
       "1327    -1012.309175\n",
       "1333    -1293.627198\n",
       "1188    -7077.907542\n",
       "489     -1223.607546\n",
       "958      3489.963857\n",
       "1330     1434.358799\n",
       "432     -1481.571382\n",
       "509       343.930325\n",
       "764      -348.438685\n",
       "1175     -911.844968\n",
       "1284       70.928303\n",
       "255       908.757093\n",
       "1317    -5290.068250\n",
       "351        37.588544\n",
       "277      -303.538646\n",
       "1300     5521.477547\n",
       "320     -1325.573438\n",
       "1067    -5310.527390\n",
       "373      8054.763522\n",
       "1008    18205.339723\n",
       "199      -904.599602\n",
       "995      -177.278902\n",
       "961      -989.614477\n",
       "548     -1670.588822\n",
       "826      1880.562099\n",
       "1276    -1877.313625\n",
       "420       574.399490\n",
       "117     -6236.491535\n",
       "621      4464.135794\n",
       "875     -1248.457523\n",
       "708     -1870.190812\n",
       "1116    -1713.964359\n",
       "902     -1548.083531\n",
       "553      -826.061328\n",
       "295      -446.583079\n",
       "1323     3114.231345\n",
       "674      1904.878249\n",
       "465     -6138.371702\n",
       "1055     -307.425655\n",
       "1053    -5519.361249\n",
       "78      -3920.571112\n",
       "754      9512.266023\n",
       "742      1933.105798\n",
       "1118     6526.525313\n",
       "245     13275.142116\n",
       "287      1938.394802\n",
       "235     -7522.764086\n",
       "37       -297.417822\n",
       "610      -787.260605\n",
       "594     -4264.233481\n",
       "1058    -3554.845900\n",
       "68      -2912.060234\n",
       "593     -7905.332989\n",
       "956      2991.614834\n",
       "730     -7473.071118\n",
       "784     -1442.528071\n",
       "500      7976.930717\n",
       "721     -2090.704855\n",
       "1287     -864.377248\n",
       "1241    -1008.747768\n",
       "1319     -769.809087\n",
       "635     -1177.425411\n",
       "86       2131.088062\n",
       "473     10118.967002\n",
       "636       -15.560727\n",
       "364       742.658260\n",
       "555      -757.432048\n",
       "865     -1976.856911\n",
       "411     -8373.442597\n",
       "1131    -5523.805776\n",
       "1138    -2321.504985\n",
       "897      -763.082720\n",
       "695     -4034.843539\n",
       "1109      741.072624\n",
       "917      6143.014904\n",
       "659       613.469470\n",
       "1301     -302.016803\n",
       "1189     9643.827276\n",
       "1001     9431.443863\n",
       "1079      429.525936\n",
       "1329    -2792.593645\n",
       "304     -1408.244778\n",
       "1117     8359.704419\n",
       "438     -3461.208927\n",
       "175      -188.545272\n",
       "1019    20613.373745\n",
       "795     -6901.440253\n",
       "454     -5588.829676\n",
       "1095    -1205.776781\n",
       "1026    -6917.176335\n",
       "70      -7174.425932\n",
       "679       672.055001\n",
       "937        86.654477\n",
       "892       128.102043\n",
       "741     -6499.229250\n",
       "324     -1792.535795\n",
       "590       445.633473\n",
       "1328    17997.003280\n",
       "1031     2296.080659\n",
       "434     -2044.123673\n",
       "106      -814.187933\n",
       "247     -3286.713586\n",
       "697      4767.595920\n",
       "155     -4131.075304\n",
       "713     -4428.296898\n",
       "521     -4834.754473\n",
       "788      -620.838828\n",
       "439     -2425.186059\n",
       "786     -1697.702176\n",
       "974     -3294.554941\n",
       "1051     1381.806189\n",
       "211     -1966.891044\n",
       "1209    -1526.862925\n",
       "572     -4304.785745\n",
       "567     -2120.708221\n",
       "451     -1059.369167\n",
       "477     -3516.313451\n",
       "1105     -489.079995\n",
       "763     -1723.810511\n",
       "1029      917.396762\n",
       "1112    -5793.561727\n",
       "311      -144.490026\n",
       "895     -2272.157919\n",
       "92      -4120.403111\n",
       "1321    -4813.568149\n",
       "1168    -3306.452486\n",
       "760     -2517.157167\n",
       "1184    -5817.089232\n",
       "198      1751.155840\n",
       "1332    -3463.203588\n",
       "992      -997.654108\n",
       "316     -1964.340081\n",
       "698     -1474.892558\n",
       "203      8259.928348\n",
       "288      -391.050822\n",
       "278       -60.027093\n",
       "1122      399.698232\n",
       "319     -4152.957710\n",
       "233       558.758752\n",
       "1176    -6289.078408\n",
       "505     -2218.280970\n",
       "756       -74.084080\n",
       "566     -4038.874038\n",
       "42       -115.276305\n",
       "765      -381.467059\n",
       "715       300.800968\n",
       "891      -965.052100\n",
       "77      -3009.426818\n",
       "49       5987.180033\n",
       "648     -1643.643021\n",
       "232      1354.550554\n",
       "554     10211.373864\n",
       "207     -7132.631161\n",
       "1213    -1120.663295\n",
       "598     -2385.649530\n",
       "799     -8218.834810\n",
       "1060    -2450.292392\n",
       "490     -1925.958542\n",
       "270     -1270.889938\n",
       "1182    -1792.467716\n",
       "638     -7646.343251\n",
       "1134    13357.679283\n",
       "196     -2400.476799\n",
       "486      1810.305940\n",
       "1041     -467.222044\n",
       "268     -1846.223907\n",
       "24      -1733.247483\n",
       "1205      296.446620\n",
       "264      6999.118384\n",
       "1239    -4049.335587\n",
       "569      1112.330706\n",
       "398      2074.587620\n",
       "577      5474.407850\n",
       "15       -509.122735\n",
       "377      7998.159497\n",
       "580       753.417153\n",
       "163     -1612.796910\n",
       "607     -5478.306252\n",
       "414     -2461.260201\n",
       "971      -769.766270\n",
       "Name: charges, dtype: float64"
      ]
     },
     "execution_count": 54,
     "metadata": {},
     "output_type": "execute_result"
    }
   ],
   "source": [
    "residual = y_train - y_pred_train\n",
    "residual"
   ]
  },
  {
   "cell_type": "markdown",
   "metadata": {},
   "source": [
    "## 1. kdeplot :"
   ]
  },
  {
   "cell_type": "code",
   "execution_count": 55,
   "metadata": {},
   "outputs": [
    {
     "data": {
      "text/plain": [
       "<matplotlib.axes._subplots.AxesSubplot at 0x1e856dc1dc0>"
      ]
     },
     "execution_count": 55,
     "metadata": {},
     "output_type": "execute_result"
    },
    {
     "data": {
      "image/png": "[encoded data removed]",
      "text/plain": [
       "<Figure size 432x288 with 1 Axes>"
      ]
     },
     "metadata": {
      "needs_background": "light"
     },
     "output_type": "display_data"
    }
   ],
   "source": [
    "sns.kdeplot(residual)"
   ]
  },
  {
   "cell_type": "markdown",
   "metadata": {},
   "source": [
    "## 2. qqplot"
   ]
  },
  {
   "cell_type": "code",
   "execution_count": 56,
   "metadata": {},
   "outputs": [
    {
     "data": {
      "image/png": "[encoded data removed]",
      "text/plain": [
       "<Figure size 432x288 with 1 Axes>"
      ]
     },
     "execution_count": 56,
     "metadata": {},
     "output_type": "execute_result"
    },
    {
     "data": {
      "image/png": "[encoded data removed]",
      "text/plain": [
       "<Figure size 432x288 with 1 Axes>"
      ]
     },
     "metadata": {
      "needs_background": "light"
     },
     "output_type": "display_data"
    }
   ],
   "source": [
    "sm.qqplot(residual,line='45',fit=True)"
   ]
  },
  {
   "cell_type": "markdown",
   "metadata": {},
   "source": [
    "## 3. Hypothesis Testing:"
   ]
  },
  {
   "cell_type": "markdown",
   "metadata": {},
   "source": [
    "### 1. shapiro test :"
   ]
  },
  {
   "cell_type": "code",
   "execution_count": 57,
   "metadata": {},
   "outputs": [
    {
     "name": "stdout",
     "output_type": "stream",
     "text": [
      "p_value : 2.677101323947402e-33\n",
      "\n",
      "Residual is Not Normally Distributed...\n"
     ]
    }
   ],
   "source": [
    "_,p_value = shapiro(residual)\n",
    "\n",
    "print('p_value :',p_value)\n",
    "\n",
    "print()\n",
    "\n",
    "if p_value >= 0.05:\n",
    "    \n",
    "    print('Residual is Normally Distibuted....')\n",
    "    \n",
    "else :\n",
    "    \n",
    "    print('Residual is Not Normally Distributed...')\n",
    "    "
   ]
  },
  {
   "cell_type": "markdown",
   "metadata": {},
   "source": [
    "## 2. kstest :"
   ]
  },
  {
   "cell_type": "code",
   "execution_count": 58,
   "metadata": {},
   "outputs": [
    {
     "name": "stdout",
     "output_type": "stream",
     "text": [
      "p_value : 0.0\n",
      "\n",
      "Residual is Not Nomrally Distributed...\n"
     ]
    }
   ],
   "source": [
    "_,p_value = kstest(residual,'norm')\n",
    "\n",
    "print('p_value :',p_value)\n",
    "\n",
    "print()\n",
    "\n",
    "if p_value >= 0.05:\n",
    "    \n",
    "    print('Residual is Normally Distributed....')\n",
    "    \n",
    "else :\n",
    "    \n",
    "    print('Residual is Not Nomrally Distributed...')\n"
   ]
  },
  {
   "cell_type": "markdown",
   "metadata": {},
   "source": [
    "## 3. normaltest "
   ]
  },
  {
   "cell_type": "code",
   "execution_count": 59,
   "metadata": {},
   "outputs": [
    {
     "name": "stdout",
     "output_type": "stream",
     "text": [
      "p_value : 1.0725900344498228e-87\n",
      "\n",
      "Residual is Not Normally Distributed...\n"
     ]
    }
   ],
   "source": [
    "_,p_value = normaltest(residual)\n",
    "\n",
    "print('p_value :',p_value)\n",
    "\n",
    "print()\n",
    "\n",
    "if p_value >= 0.05 :\n",
    "    \n",
    "    print('Residual is Normally Distributed...')\n",
    "    \n",
    "else :\n",
    "    \n",
    "    print('Residual is Not Normally Distributed...')\n",
    "    "
   ]
  },
  {
   "cell_type": "markdown",
   "metadata": {},
   "source": [
    "## Skewness :"
   ]
  },
  {
   "cell_type": "code",
   "execution_count": 60,
   "metadata": {},
   "outputs": [
    {
     "name": "stdout",
     "output_type": "stream",
     "text": [
      "skewness : 1.8307546335804743\n",
      "\n",
      "There is Positively Skewed Distribution of Residual\n"
     ]
    }
   ],
   "source": [
    "skewness = residual.skew()\n",
    "\n",
    "print('skewness :',skewness)\n",
    "\n",
    "print()\n",
    "\n",
    "if (skewness >= -0.5) & (skewness <= 0.5):\n",
    "    \n",
    "    print('Residual is Normally Distributed')\n",
    "    \n",
    "elif skewness < -0.05 :\n",
    "    \n",
    "    print('There is Negatively Skewed distribution of Residual')\n",
    "    \n",
    "else :\n",
    "    \n",
    "    print('There is Positively Skewed Distribution of Residual')"
   ]
  },
  {
   "cell_type": "markdown",
   "metadata": {},
   "source": [
    "## Homscadasticity :"
   ]
  },
  {
   "cell_type": "code",
   "execution_count": 61,
   "metadata": {},
   "outputs": [
    {
     "data": {
      "text/plain": [
       "<matplotlib.axes._subplots.AxesSubplot at 0x1e857553d60>"
      ]
     },
     "execution_count": 61,
     "metadata": {},
     "output_type": "execute_result"
    },
    {
     "data": {
      "image/png": "[encoded data removed]",
      "text/plain": [
       "<Figure size 432x288 with 1 Axes>"
      ]
     },
     "metadata": {
      "needs_background": "light"
     },
     "output_type": "display_data"
    }
   ],
   "source": [
    "sns.scatterplot(x = y_train,y = residual)"
   ]
  },
  {
   "cell_type": "markdown",
   "metadata": {},
   "source": [
    "## Dictionary of Encoded Columns :"
   ]
  },
  {
   "cell_type": "code",
   "execution_count": 62,
   "metadata": {},
   "outputs": [
    {
     "data": {
      "text/plain": [
       "Index(['age', 'sex', 'bmi', 'children', 'smoker', 'region_northeast',\n",
       "       'region_northwest', 'region_southeast', 'region_southwest'],\n",
       "      dtype='object')"
      ]
     },
     "execution_count": 62,
     "metadata": {},
     "output_type": "execute_result"
    }
   ],
   "source": [
    "column_names = x.columns\n",
    "column_names"
   ]
  },
  {
   "cell_type": "code",
   "execution_count": 63,
   "metadata": {},
   "outputs": [
    {
     "data": {
      "text/plain": [
       "{'sex': {'female': 0, 'male': 1},\n",
       " 'smoker': {'yes': 0, 'no': 1},\n",
       " 'column_names': ['age',\n",
       "  'sex',\n",
       "  'bmi',\n",
       "  'children',\n",
       "  'smoker',\n",
       "  'region_northeast',\n",
       "  'region_northwest',\n",
       "  'region_southeast',\n",
       "  'region_southwest']}"
      ]
     },
     "execution_count": 63,
     "metadata": {},
     "output_type": "execute_result"
    }
   ],
   "source": [
    "json_data = {'sex':sex_col,'smoker':smoker_col,'column_names':list(x.columns)}\n",
    "json_data"
   ]
  },
  {
   "cell_type": "code",
   "execution_count": 64,
   "metadata": {},
   "outputs": [],
   "source": [
    "# saving dictionary into json file\n",
    "\n",
    "with open('Medical_Insurance.json','w') as f:\n",
    "    json.dump(json_data,f)"
   ]
  },
  {
   "cell_type": "code",
   "execution_count": 65,
   "metadata": {},
   "outputs": [],
   "source": [
    "# saving model into pickle file\n",
    "\n",
    "with open('Medical_Insurance.pkl','wb') as f :\n",
    "    pickle.dump(model,f)"
   ]
  },
  {
   "cell_type": "markdown",
   "metadata": {},
   "source": [
    "## Single User Input Testing :"
   ]
  },
  {
   "cell_type": "code",
   "execution_count": 66,
   "metadata": {},
   "outputs": [
    {
     "data": {
      "text/html": [
       "<div>\n",
       "<style scoped>\n",
       "    .dataframe tbody tr th:only-of-type {\n",
       "        vertical-align: middle;\n",
       "    }\n",
       "\n",
       "    .dataframe tbody tr th {\n",
       "        vertical-align: top;\n",
       "    }\n",
       "\n",
       "    .dataframe thead th {\n",
       "        text-align: right;\n",
       "    }\n",
       "</style>\n",
       "<table border=\"1\" class=\"dataframe\">\n",
       "  <thead>\n",
       "    <tr style=\"text-align: right;\">\n",
       "      <th></th>\n",
       "      <th>0</th>\n",
       "    </tr>\n",
       "  </thead>\n",
       "  <tbody>\n",
       "    <tr>\n",
       "      <th>age</th>\n",
       "      <td>19.0</td>\n",
       "    </tr>\n",
       "    <tr>\n",
       "      <th>sex</th>\n",
       "      <td>0.0</td>\n",
       "    </tr>\n",
       "    <tr>\n",
       "      <th>bmi</th>\n",
       "      <td>27.9</td>\n",
       "    </tr>\n",
       "    <tr>\n",
       "      <th>children</th>\n",
       "      <td>0.0</td>\n",
       "    </tr>\n",
       "    <tr>\n",
       "      <th>smoker</th>\n",
       "      <td>0.0</td>\n",
       "    </tr>\n",
       "    <tr>\n",
       "      <th>region_northeast</th>\n",
       "      <td>0.0</td>\n",
       "    </tr>\n",
       "    <tr>\n",
       "      <th>region_northwest</th>\n",
       "      <td>0.0</td>\n",
       "    </tr>\n",
       "    <tr>\n",
       "      <th>region_southeast</th>\n",
       "      <td>0.0</td>\n",
       "    </tr>\n",
       "    <tr>\n",
       "      <th>region_southwest</th>\n",
       "      <td>1.0</td>\n",
       "    </tr>\n",
       "  </tbody>\n",
       "</table>\n",
       "</div>"
      ],
      "text/plain": [
       "                     0\n",
       "age               19.0\n",
       "sex                0.0\n",
       "bmi               27.9\n",
       "children           0.0\n",
       "smoker             0.0\n",
       "region_northeast   0.0\n",
       "region_northwest   0.0\n",
       "region_southeast   0.0\n",
       "region_southwest   1.0"
      ]
     },
     "execution_count": 66,
     "metadata": {},
     "output_type": "execute_result"
    }
   ],
   "source": [
    "x.head(1).T"
   ]
  },
  {
   "cell_type": "code",
   "execution_count": 67,
   "metadata": {},
   "outputs": [],
   "source": [
    "age = 19.0\n",
    "sex = 'male'\n",
    "bmi = 27.9\n",
    "children = 0.0\n",
    "smoker = 'yes'\n",
    "\n",
    "region = 'northeast'\n",
    "region = 'region_' + region\n",
    "region_index  = list(x.columns).index(region)"
   ]
  },
  {
   "cell_type": "code",
   "execution_count": 68,
   "metadata": {},
   "outputs": [
    {
     "data": {
      "text/plain": [
       "array([0., 0., 0., 0., 0., 0., 0., 0., 0.])"
      ]
     },
     "execution_count": 68,
     "metadata": {},
     "output_type": "execute_result"
    }
   ],
   "source": [
    "array = np.zeros(x.shape[1])\n",
    "array"
   ]
  },
  {
   "cell_type": "code",
   "execution_count": 69,
   "metadata": {},
   "outputs": [
    {
     "data": {
      "text/plain": [
       "array([0., 0., 0., 0., 0., 0., 0., 0., 0.])"
      ]
     },
     "execution_count": 69,
     "metadata": {},
     "output_type": "execute_result"
    }
   ],
   "source": [
    "array = np.zeros(len(x.columns))\n",
    "array"
   ]
  },
  {
   "cell_type": "code",
   "execution_count": 70,
   "metadata": {},
   "outputs": [
    {
     "data": {
      "text/plain": [
       "array([19. ,  1. , 27.9,  0. ,  0. ,  0. ,  0. ,  0. ,  0. ])"
      ]
     },
     "execution_count": 70,
     "metadata": {},
     "output_type": "execute_result"
    }
   ],
   "source": [
    "array[0] = age\n",
    "array[1] = json_data['sex'][sex]\n",
    "array[2] = bmi\n",
    "array[3] = children\n",
    "array[4] = json_data['smoker'][smoker]\n",
    "array[region_index] == 1\n",
    "array"
   ]
  },
  {
   "cell_type": "code",
   "execution_count": 71,
   "metadata": {},
   "outputs": [
    {
     "name": "stdout",
     "output_type": "stream",
     "text": [
      "Medical Inusrance Charges is : Rs. 23163.07 /-\n"
     ]
    }
   ],
   "source": [
    "predict = model.predict([array])[0]\n",
    "print('Medical Inusrance Charges is : Rs.',round(predict,2),'/-')"
   ]
  },
  {
   "cell_type": "code",
   "execution_count": null,
   "metadata": {},
   "outputs": [],
   "source": []
  },
  {
   "cell_type": "code",
   "execution_count": null,
   "metadata": {},
   "outputs": [],
   "source": []
  },
  {
   "cell_type": "code",
   "execution_count": null,
   "metadata": {},
   "outputs": [],
   "source": []
  },
  {
   "cell_type": "code",
   "execution_count": null,
   "metadata": {},
   "outputs": [],
   "source": []
  },
  {
   "cell_type": "code",
   "execution_count": null,
   "metadata": {},
   "outputs": [],
   "source": []
  }
 ],
 "metadata": {
  "kernelspec": {
   "display_name": "Python 3",
   "language": "python",
   "name": "python3"
  },
  "language_info": {
   "codemirror_mode": {
    "name": "ipython",
    "version": 3
   },
   "file_extension": ".py",
   "mimetype": "text/x-python",
   "name": "python",
   "nbconvert_exporter": "python",
   "pygments_lexer": "ipython3",
   "version": "3.8.3"
  }
 },
 "nbformat": 4,
 "nbformat_minor": 4
}
